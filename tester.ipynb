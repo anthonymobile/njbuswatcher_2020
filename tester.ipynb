{
 "cells": [
  {
   "cell_type": "code",
   "execution_count": 3,
   "metadata": {},
   "outputs": [],
   "source": [
    "from src.BusAPI import *"
   ]
  },
  {
   "cell_type": "code",
   "execution_count": 6,
   "metadata": {},
   "outputs": [
    {
     "data": {
      "text/plain": [
       "[Bus[bid=4536 cars= consist= d=South West Bound dd=Bayonne dip=11709 dn=SSW fs=119 JERSEY CITY VIA CENTRAL BAYOONNE VIA JFK BLVD id=6033 lat=40.76509 lon=-74.02270333333334 m=1 name=Bus op=1114 pd=Bayonne pdRtpiFeedName= pid=1860 rt=119 rtRtpiFeedName= rtdd=119 rtpiFeedName= run=405 wid1=405 wid2=0022],\n",
       " Bus[bid=11099 cars= consist= d=North West Bound dd=Bayonne dip=21081 dn=WNW fs=119 JERSEY CITY VIA CENTRAL BAYOONNE VIA JFK BLVD id=6020 lat=40.74895538330078 lon=-74.04090377807617 m=1 name=Bus op=N/A pd=Bayonne pdRtpiFeedName= pid=1860 rt=119 rtRtpiFeedName= rtdd=119 rtpiFeedName= run=12 wid1=012 wid2=0119],\n",
       " Bus[bid=11951 cars= consist= d=North East Bound dd=New York dip=25893 dn=NE fs=119 NEW YORK id=6201 lat=40.70740181291607 lon=-74.08794779173085 m=1 name=Bus op=1088 pd=New York pdRtpiFeedName= pid=38040 rt=119 rtRtpiFeedName= rtdd=119 rtpiFeedName= run=919 wid1=919 wid2=0119],\n",
       " Bus[bid=11952 cars= consist= d=South West Bound dd=Bayonne dip=48286 dn=SW fs=119 JERSEY CITY VIA CENTRAL BAYOONNE VIA JFK BLVD id=6010 lat=40.7019702686983 lon=-74.09234215231503 m=1 name=Bus op=1003 pd=Bayonne pdRtpiFeedName= pid=1860 rt=119 rtRtpiFeedName= rtdd=119 rtpiFeedName= run=922 wid1=922 wid2=0119],\n",
       " Bus[bid=11005 cars= consist= d=South East Bound dd=New York dip=48567 dn=ESE fs=119 NEW YORK id=6018 lat=40.74973997636275 lon=-74.04312952215021 m=1 name=Bus op=1052 pd=New York pdRtpiFeedName= pid=38040 rt=119 rtRtpiFeedName= rtdd=119 rtpiFeedName= run=914 wid1=914 wid2=0119],\n",
       " Bus[bid=11024 cars= consist= d=North Bound dd=New York dip=54718 dn=NNE fs=119 NEW YORK id=6021 lat=40.756016387939454 lon=-74.0289810180664 m=1 name=Bus op=1172 pd=New York pdRtpiFeedName= pid=38040 rt=119 rtRtpiFeedName= rtdd=119 rtpiFeedName= run=915 wid1=915 wid2=0119],\n",
       " Bus[bid=11025 cars= consist= d=North Bound dd=New York dip=55116 dn=N fs=119 NEW YORK id=6011 lat=40.75707931518555 lon=-74.02865219116211 m=1 name=Bus op=1035 pd=New York pdRtpiFeedName= pid=38040 rt=119 rtRtpiFeedName= rtdd=119 rtpiFeedName= run=917 wid1=917 wid2=0119],\n",
       " Bus[bid=11950 cars= consist= d=North Bound dd=New York dip=58281 dn=NNE fs=119 NEW YORK id=6051 lat=40.76470947265625 lon=-74.02366638183594 m=1 name=Bus op=1031 pd=New York pdRtpiFeedName= pid=38040 rt=119 rtRtpiFeedName= rtdd=119 rtpiFeedName= run=916 wid1=916 wid2=0119],\n",
       " Bus[bid=11008 cars= consist= d=South West Bound dd=Bayonne dip=72289 dn=SSW fs=119 JERSEY CITY VIA CENTRAL BAYOONNE VIA JFK BLVD id=6030 lat=40.647695 lon=-74.13871666666667 m=1 name=Bus op=1064 pd=Bayonne pdRtpiFeedName= pid=1860 rt=119 rtRtpiFeedName= rtdd=119 rtpiFeedName= run=918 wid1=918 wid2=0119]]"
      ]
     },
     "execution_count": 6,
     "metadata": {},
     "output_type": "execute_result"
    }
   ],
   "source": [
    "data = parse_xml_getBusesForRoute(get_xml_data('nj', 'buses_for_route', route=119))\n",
    "data"
   ]
  },
  {
   "cell_type": "code",
   "execution_count": null,
   "metadata": {},
   "outputs": [],
   "source": []
  }
 ],
 "metadata": {
  "kernelspec": {
   "display_name": "Python 2",
   "language": "python",
   "name": "python2"
  },
  "language_info": {
   "codemirror_mode": {
    "name": "ipython",
    "version": 2
   },
   "file_extension": ".py",
   "mimetype": "text/x-python",
   "name": "python",
   "nbconvert_exporter": "python",
   "pygments_lexer": "ipython2",
   "version": "2.7.15"
  }
 },
 "nbformat": 4,
 "nbformat_minor": 2
}
