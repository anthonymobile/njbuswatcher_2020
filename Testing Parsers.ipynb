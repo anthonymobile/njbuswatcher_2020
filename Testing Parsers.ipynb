{
 "cells": [
  {
   "cell_type": "code",
   "execution_count": 1,
   "metadata": {
    "collapsed": true
   },
   "outputs": [],
   "source": [
    "import Buses"
   ]
  },
  {
   "cell_type": "code",
   "execution_count": 5,
   "metadata": {
    "collapsed": false
   },
   "outputs": [
    {
     "name": "stdout",
     "output_type": "stream",
     "text": [
      "http://mybusnow.njtransit.com/bustime/map/getRoutePoints.jsp?route=126\n"
     ]
    },
    {
     "data": {
      "text/plain": [
       "route[c=#003366 displayDesignator=126 identity=126 name=route nm=126 Hoboken - New York paths=[Path[d=New York dd=New York directionRtpiFeedName=None identity=19218 l=24023.0 name=Path points=[<Buses.Stop instance at 0x1068409e0>, <Buses.Point instance at 0x106840950>, <Buses.Point instance at 0x1068408c0>, <Buses.Point instance at 0x106840830>, <Buses.Stop instance at 0x1068407a0>, <Buses.Stop instance at 0x106840710>, <Buses.Stop instance at 0x106840680>, <Buses.Stop instance at 0x1068405f0>, <Buses.Stop instance at 0x106840560>, <Buses.Stop instance at 0x1068404d0>, <Buses.Point instance at 0x106840440>, <Buses.Stop instance at 0x1068403b0>, <Buses.Point instance at 0x106840320>, <Buses.Stop instance at 0x106840290>, <Buses.Point instance at 0x106840200>, <Buses.Stop instance at 0x106840170>, <Buses.Stop instance at 0x1068400e0>, <Buses.Point instance at 0x106840050>, <Buses.Point instance at 0x1067c95f0>, <Buses.Point instance at 0x1067ed1b8>, <Buses.Point instance at 0x1067ed290>, <Buses.Point instance at 0x1067ed368>, <Buses.Point instance at 0x1067ed440>, <Buses.Point instance at 0x1067ed518>, <Buses.Point instance at 0x10682efc8>, <Buses.Point instance at 0x10682ef38>, <Buses.Point instance at 0x10682eea8>, <Buses.Point instance at 0x10682ee18>, <Buses.Point instance at 0x10682ed88>, <Buses.Point instance at 0x10682ecf8>, <Buses.Point instance at 0x10682ec68>, <Buses.Point instance at 0x10682ebd8>, <Buses.Point instance at 0x10682eb48>, <Buses.Point instance at 0x10682eab8>, <Buses.Point instance at 0x10682ea28>, <Buses.Point instance at 0x10682e998>, <Buses.Point instance at 0x10682e908>, <Buses.Point instance at 0x10682e878>, <Buses.Point instance at 0x10682e7e8>, <Buses.Point instance at 0x10682e758>, <Buses.Point instance at 0x10682e6c8>, <Buses.Point instance at 0x10682e638>, <Buses.Point instance at 0x10682e170>, <Buses.Point instance at 0x10682e518>, <Buses.Point instance at 0x10682e440>, <Buses.Point instance at 0x10682e488>, <Buses.Point instance at 0x10682e3b0>, <Buses.Point instance at 0x10682e290>, <Buses.Point instance at 0x10682e2d8>, <Buses.Point instance at 0x10682e200>, <Buses.Point instance at 0x10682e0e0>, <Buses.Point instance at 0x104283cb0>, <Buses.Point instance at 0x104280488>, <Buses.Point instance at 0x1042816c8>, <Buses.Point instance at 0x1067e1050>, <Buses.Stop instance at 0x1067e1758>]], Path[d=Hoboken/Jersey C dd=Hoboken/Jersey C directionRtpiFeedName=None identity=19214 l=24777.0 name=Path points=[<Buses.Stop instance at 0x1067e1fc8>, <Buses.Point instance at 0x1067e1e18>, <Buses.Point instance at 0x1067e1488>, <Buses.Point instance at 0x1067e1a28>, <Buses.Point instance at 0x1067e1998>, <Buses.Point instance at 0x1067e18c0>, <Buses.Point instance at 0x1067e1830>, <Buses.Point instance at 0x1067e15f0>, <Buses.Point instance at 0x1067e1440>, <Buses.Point instance at 0x1067e17e8>, <Buses.Point instance at 0x1067e1290>, <Buses.Point instance at 0x1067e14d0>, <Buses.Point instance at 0x1067e1518>, <Buses.Point instance at 0x1067e1a70>, <Buses.Point instance at 0x1042d2638>, <Buses.Point instance at 0x1032bddd0>, <Buses.Point instance at 0x1032bde18>, <Buses.Point instance at 0x1032bde60>, <Buses.Point instance at 0x1032bdef0>, <Buses.Point instance at 0x1032bdcf8>, <Buses.Point instance at 0x1032bdd88>, <Buses.Point instance at 0x1032bdfc8>, <Buses.Point instance at 0x1032bdea8>, <Buses.Point instance at 0x1032bdf38>, <Buses.Point instance at 0x1032bdf80>, <Buses.Point instance at 0x1032bdd40>, <Buses.Point instance at 0x103350128>, <Buses.Point instance at 0x103350170>, <Buses.Point instance at 0x1033503b0>, <Buses.Point instance at 0x103350368>, <Buses.Point instance at 0x1033501b8>, <Buses.Point instance at 0x1033500e0>, <Buses.Point instance at 0x1033503f8>, <Buses.Point instance at 0x103350320>, <Buses.Point instance at 0x1042953f8>, <Buses.Point instance at 0x103350050>, <Buses.Point instance at 0x104493b00>, <Buses.Point instance at 0x104493b90>, <Buses.Point instance at 0x104493758>, <Buses.Point instance at 0x1044934d0>, <Buses.Point instance at 0x104493e60>, <Buses.Point instance at 0x1042da128>, <Buses.Point instance at 0x1042da050>, <Buses.Point instance at 0x1042da170>, <Buses.Point instance at 0x1042daa70>, <Buses.Point instance at 0x1042da248>, <Buses.Point instance at 0x1044a2fc8>, <Buses.Point instance at 0x1044a2a28>, <Buses.Point instance at 0x1044a2cb0>, <Buses.Point instance at 0x1044a2bd8>, <Buses.Point instance at 0x1044a23f8>, <Buses.Point instance at 0x1039b27e8>, <Buses.Point instance at 0x1044a2830>, <Buses.Point instance at 0x1044a5440>, <Buses.Point instance at 0x1044a5488>, <Buses.Point instance at 0x1044a54d0>, <Buses.Point instance at 0x1044a5518>, <Buses.Point instance at 0x1044a52d8>, <Buses.Point instance at 0x1045184d0>, <Buses.Stop instance at 0x1045183b0>, <Buses.Point instance at 0x104518518>, <Buses.Point instance at 0x104518200>, <Buses.Point instance at 0x104518488>, <Buses.Point instance at 0x104518050>, <Buses.Stop instance at 0x104518248>, <Buses.Point instance at 0x1045181b8>, <Buses.Stop instance at 0x104518290>, <Buses.Stop instance at 0x104518560>, <Buses.Point instance at 0x1045183f8>, <Buses.Stop instance at 0x104518320>, <Buses.Stop instance at 0x1045180e0>, <Buses.Stop instance at 0x1045185a8>, <Buses.Stop instance at 0x104518098>, <Buses.Stop instance at 0x1045185f0>, <Buses.Point instance at 0x104518680>, <Buses.Point instance at 0x104518638>, <Buses.Stop instance at 0x104518710>, <Buses.Stop instance at 0x1045186c8>, <Buses.Point instance at 0x1045187a0>, <Buses.Point instance at 0x1045187e8>, <Buses.Point instance at 0x104518758>, <Buses.Point instance at 0x104518878>, <Buses.Stop instance at 0x1045188c0>]], Path[d=Hoboken/Jersey C dd=Hoboken/Jersey C directionRtpiFeedName=None identity=19212 l=24647.0 name=Path points=[<Buses.Stop instance at 0x104518830>, <Buses.Point instance at 0x104518908>, <Buses.Point instance at 0x1045189e0>, <Buses.Point instance at 0x104518a70>, <Buses.Point instance at 0x104518a28>, <Buses.Point instance at 0x104518b00>, <Buses.Point instance at 0x104518ab8>, <Buses.Point instance at 0x104518b90>, <Buses.Point instance at 0x104518b48>, <Buses.Point instance at 0x104518bd8>, <Buses.Point instance at 0x104518c68>, <Buses.Point instance at 0x104518c20>, <Buses.Point instance at 0x104518cf8>, <Buses.Point instance at 0x104518cb0>, <Buses.Point instance at 0x104518d88>, <Buses.Point instance at 0x104518d40>, <Buses.Point instance at 0x104518dd0>, <Buses.Point instance at 0x104518e60>, <Buses.Point instance at 0x104518e18>, <Buses.Point instance at 0x104518ef0>, <Buses.Point instance at 0x104518ea8>, <Buses.Point instance at 0x104518f80>, <Buses.Point instance at 0x104518f38>, <Buses.Point instance at 0x104518fc8>, <Buses.Point instance at 0x104518998>, <Buses.Point instance at 0x1043ff560>, <Buses.Point instance at 0x1043ff5f0>, <Buses.Point instance at 0x1044a38c0>, <Buses.Point instance at 0x1044a33b0>, <Buses.Point instance at 0x1044a3560>, <Buses.Point instance at 0x1044a3368>, <Buses.Point instance at 0x1044a30e0>, <Buses.Point instance at 0x1044a37e8>, <Buses.Point instance at 0x1044a3cf8>, <Buses.Point instance at 0x10450c7a0>, <Buses.Point instance at 0x10450c710>, <Buses.Point instance at 0x10450cab8>, <Buses.Point instance at 0x10450c878>, <Buses.Point instance at 0x10450cf38>, <Buses.Point instance at 0x10450c7e8>, <Buses.Point instance at 0x10450c950>, <Buses.Point instance at 0x10450c170>, <Buses.Point instance at 0x10450c290>, <Buses.Point instance at 0x10450cf80>, <Buses.Point instance at 0x10450c3b0>, <Buses.Point instance at 0x10450cc20>, <Buses.Point instance at 0x10450ce60>, <Buses.Point instance at 0x10450cd88>, <Buses.Point instance at 0x10450cd40>, <Buses.Point instance at 0x10450c368>, <Buses.Point instance at 0x10450c2d8>, <Buses.Point instance at 0x10450cc68>, <Buses.Point instance at 0x10450c9e0>, <Buses.Point instance at 0x10450ca28>, <Buses.Point instance at 0x10450cea8>, <Buses.Point instance at 0x10450c3f8>, <Buses.Point instance at 0x10450c320>, <Buses.Point instance at 0x10450ccb0>, <Buses.Point instance at 0x10450c488>, <Buses.Stop instance at 0x10450cb00>, <Buses.Point instance at 0x10450cfc8>, <Buses.Point instance at 0x10450c680>, <Buses.Point instance at 0x10450c908>, <Buses.Point instance at 0x10450ce18>, <Buses.Stop instance at 0x10450c998>, <Buses.Point instance at 0x10450cbd8>, <Buses.Point instance at 0x10450cdd0>, <Buses.Stop instance at 0x10450cb48>, <Buses.Point instance at 0x1067270e0>, <Buses.Point instance at 0x106727098>, <Buses.Stop instance at 0x106727170>, <Buses.Point instance at 0x106727128>, <Buses.Point instance at 0x1067271b8>, <Buses.Stop instance at 0x106727248>, <Buses.Point instance at 0x106727200>, <Buses.Point instance at 0x1067272d8>, <Buses.Stop instance at 0x106727290>, <Buses.Stop instance at 0x1067273b0>, <Buses.Stop instance at 0x106727320>, <Buses.Stop instance at 0x106727440>, <Buses.Stop instance at 0x106727488>, <Buses.Point instance at 0x1067273f8>, <Buses.Stop instance at 0x106727518>, <Buses.Point instance at 0x106727560>, <Buses.Point instance at 0x1067274d0>, <Buses.Point instance at 0x1067275f0>, <Buses.Point instance at 0x106727638>, <Buses.Stop instance at 0x1067275a8>]], Path[d=Hoboken/Jersey C dd=Hoboken/Jersey C directionRtpiFeedName=None identity=19215 l=34462.0 name=Path points=[<Buses.Stop instance at 0x1067276c8>, <Buses.Point instance at 0x106727758>, <Buses.Point instance at 0x1067277e8>, <Buses.Point instance at 0x1067277a0>, <Buses.Point instance at 0x106727878>, <Buses.Point instance at 0x1067278c0>, <Buses.Point instance at 0x106727908>, <Buses.Point instance at 0x106727830>, <Buses.Point instance at 0x106727950>, <Buses.Point instance at 0x106727998>, <Buses.Point instance at 0x1067279e0>, <Buses.Point instance at 0x106727a70>, <Buses.Point instance at 0x106727ab8>, <Buses.Point instance at 0x106727a28>, <Buses.Point instance at 0x106727b00>, <Buses.Point instance at 0x106727b90>, <Buses.Point instance at 0x106727b48>, <Buses.Point instance at 0x106727c20>, <Buses.Point instance at 0x106727bd8>, <Buses.Point instance at 0x106727cb0>, <Buses.Point instance at 0x106727c68>, <Buses.Point instance at 0x106727d40>, <Buses.Point instance at 0x106727d88>, <Buses.Point instance at 0x106727cf8>, <Buses.Point instance at 0x106727e18>, <Buses.Point instance at 0x106727e60>, <Buses.Point instance at 0x106727dd0>, <Buses.Point instance at 0x106727ef0>, <Buses.Point instance at 0x106727f38>, <Buses.Point instance at 0x106727ea8>, <Buses.Point instance at 0x106727fc8>, <Buses.Point instance at 0x106727f80>, <Buses.Point instance at 0x104412ea8>, <Buses.Point instance at 0x106727680>, <Buses.Point instance at 0x1044195a8>, <Buses.Point instance at 0x104419368>, <Buses.Point instance at 0x104419680>, <Buses.Point instance at 0x1044194d0>, <Buses.Point instance at 0x104419518>, <Buses.Point instance at 0x1044195f0>, <Buses.Point instance at 0x10440def0>, <Buses.Point instance at 0x1032035f0>, <Buses.Point instance at 0x104419b90>, <Buses.Point instance at 0x1067a5098>, <Buses.Point instance at 0x1067a50e0>, <Buses.Point instance at 0x1067a5170>, <Buses.Point instance at 0x1067a5128>, <Buses.Point instance at 0x1067a5200>, <Buses.Point instance at 0x1067a51b8>, <Buses.Point instance at 0x1067a5290>, <Buses.Point instance at 0x1067a5248>, <Buses.Point instance at 0x1067a52d8>, <Buses.Point instance at 0x1067a5368>, <Buses.Point instance at 0x1067a5320>, <Buses.Point instance at 0x1067a53f8>, <Buses.Point instance at 0x1067a53b0>, <Buses.Point instance at 0x1067a5488>, <Buses.Point instance at 0x1067a5440>, <Buses.Point instance at 0x1067a5518>, <Buses.Stop instance at 0x1067a5560>, <Buses.Point instance at 0x1067a54d0>, <Buses.Point instance at 0x1067a55f0>, <Buses.Point instance at 0x1067a5638>, <Buses.Point instance at 0x1067a55a8>, <Buses.Stop instance at 0x1067a56c8>, <Buses.Point instance at 0x1067a5710>, <Buses.Stop instance at 0x1067a5680>, <Buses.Stop instance at 0x1067a57a0>, <Buses.Point instance at 0x1067a57e8>, <Buses.Stop instance at 0x1067a5758>, <Buses.Stop instance at 0x1067a5878>, <Buses.Stop instance at 0x1067a58c0>, <Buses.Stop instance at 0x1067a5830>, <Buses.Stop instance at 0x1067a5950>, <Buses.Point instance at 0x1067a5998>, <Buses.Point instance at 0x1067a5908>, <Buses.Stop instance at 0x1067a5a28>, <Buses.Stop instance at 0x1067a5a70>, <Buses.Point instance at 0x1067a59e0>, <Buses.Point instance at 0x1067a5b00>, <Buses.Point instance at 0x1067a5b48>, <Buses.Point instance at 0x1067a5ab8>, <Buses.Point instance at 0x1067a5bd8>, <Buses.Point instance at 0x1067a5c20>, <Buses.Point instance at 0x1067a5b90>, <Buses.Point instance at 0x1067a5c68>, <Buses.Point instance at 0x1067a5cf8>, <Buses.Stop instance at 0x1067a5cb0>, <Buses.Point instance at 0x1067a5d88>, <Buses.Point instance at 0x1067a5d40>, <Buses.Point instance at 0x1067a5e18>, <Buses.Point instance at 0x1067a5dd0>, <Buses.Point instance at 0x1067a5ea8>, <Buses.Point instance at 0x1067a5050>, <Buses.Point instance at 0x106972cf8>, <Buses.Stop instance at 0x106972d40>, <Buses.Point instance at 0x106972d88>, <Buses.Point instance at 0x106972dd0>, <Buses.Stop instance at 0x106972e18>, <Buses.Stop instance at 0x106972e60>, <Buses.Stop instance at 0x106972ea8>, <Buses.Point instance at 0x106972ef0>, <Buses.Point instance at 0x106972f38>, <Buses.Stop instance at 0x106972f80>, <Buses.Point instance at 0x106972fc8>, <Buses.Point instance at 0x106972cb0>, <Buses.Stop instance at 0x1066cc050>]]] rtpiFeedName=None sbs=\n",
       "\n",
       "\n",
       "\n",
       "\t\t sn=126 vmode=1]"
      ]
     },
     "execution_count": 5,
     "metadata": {},
     "output_type": "execute_result"
    }
   ],
   "source": [
    "# routes\n",
    "Buses.parse_route_xml(Buses.get_xml_data('nj', 'routes', route=126))"
   ]
  },
  {
   "cell_type": "code",
   "execution_count": null,
   "metadata": {
    "collapsed": true
   },
   "outputs": [],
   "source": []
  }
 ],
 "metadata": {
  "anaconda-cloud": {},
  "kernelspec": {
   "display_name": "Python [conda root]",
   "language": "python",
   "name": "conda-root-py"
  },
  "language_info": {
   "codemirror_mode": {
    "name": "ipython",
    "version": 2
   },
   "file_extension": ".py",
   "mimetype": "text/x-python",
   "name": "python",
   "nbconvert_exporter": "python",
   "pygments_lexer": "ipython2",
   "version": "2.7.12"
  }
 },
 "nbformat": 4,
 "nbformat_minor": 1
}
