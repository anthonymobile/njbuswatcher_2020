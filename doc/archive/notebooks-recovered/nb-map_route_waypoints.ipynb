{
 "cells": [
  {
   "cell_type": "markdown",
   "metadata": {},
   "source": [
    "# mapping NJT bus routes using Clever Devices API route XML"
   ]
  },
  {
   "cell_type": "markdown",
   "metadata": {},
   "source": [
    "# global settings"
   ]
  },
  {
   "cell_type": "code",
   "execution_count": 2,
   "metadata": {},
   "outputs": [],
   "source": [
    "source = 'nj'\n",
    "rt = 319\n",
    "direction = 0 # inbound"
   ]
  },
  {
   "cell_type": "code",
   "execution_count": 1,
   "metadata": {},
   "outputs": [
    {
     "ename": "NameError",
     "evalue": "name '__file__' is not defined",
     "traceback": [
      "\u001b[0;31m---------------------------------------------------------------------------\u001b[0m",
      "\u001b[0;31mNameError\u001b[0m                                 Traceback (most recent call last)",
      "\u001b[0;32m<ipython-input-1-abe3ff46d116>\u001b[0m in \u001b[0;36m<module>\u001b[0;34m()\u001b[0m\n\u001b[1;32m      1\u001b[0m \u001b[0;32mimport\u001b[0m \u001b[0mos\u001b[0m\u001b[0;34m\u001b[0m\u001b[0m\n\u001b[1;32m      2\u001b[0m \u001b[0;32mimport\u001b[0m \u001b[0msys\u001b[0m\u001b[0;34m\u001b[0m\u001b[0m\n\u001b[0;32m----> 3\u001b[0;31m \u001b[0msys\u001b[0m\u001b[0;34m.\u001b[0m\u001b[0mpath\u001b[0m\u001b[0;34m.\u001b[0m\u001b[0minsert\u001b[0m\u001b[0;34m(\u001b[0m\u001b[0mos\u001b[0m\u001b[0;34m.\u001b[0m\u001b[0mpath\u001b[0m\u001b[0;34m.\u001b[0m\u001b[0mjoin\u001b[0m\u001b[0;34m(\u001b[0m \u001b[0mos\u001b[0m\u001b[0;34m.\u001b[0m\u001b[0mpath\u001b[0m\u001b[0;34m.\u001b[0m\u001b[0mdirname\u001b[0m\u001b[0;34m(\u001b[0m \u001b[0m__file__\u001b[0m \u001b[0;34m)\u001b[0m\u001b[0;34m,\u001b[0m \u001b[0;34m'..'\u001b[0m \u001b[0;34m)\u001b[0m\u001b[0;34m)\u001b[0m\u001b[0;34m\u001b[0m\u001b[0m\n\u001b[0m",
      "\u001b[0;31mNameError\u001b[0m: name '__file__' is not defined"
     ],
     "output_type": "error"
    }
   ],
   "source": [
    "import os\n",
    "import sys\n",
    "sys.path.insert(os.path.join( os.path.dirname( __file__ ), '..' ))\n"
   ]
  },
  {
   "cell_type": "code",
   "execution_count": null,
   "metadata": {},
   "outputs": [],
   "source": [
    "# gmaps tutorial https://jupyter-gmaps.readthedocs.io/en/latest/tutorial.html"
   ]
  },
  {
   "cell_type": "code",
   "execution_count": 4,
   "metadata": {},
   "outputs": [],
   "source": [
    "import sys\n",
    "import lib.Buses as Buses\n",
    "import gmaps\n",
    "import config\n",
    "\n",
    "gmaps.configure(api_key=config.free_maps_api_key)"
   ]
  },
  {
   "cell_type": "code",
   "execution_count": 5,
   "metadata": {},
   "outputs": [],
   "source": [
    "# return a list of routes, by direction\n",
    "\n",
    "##\n",
    "## I THINK WE ARE STILL GETTING BACK BOTH DIRECTIONS FOR EACH DIRECTION FROM parse_route_xml\n",
    "## NEED TO GROUND TRUTH THE POINTS - MAYBE FOR A SHORTER ROUTE?\n",
    "##\n",
    "\n",
    "routes=Buses.parse_route_xml(Buses.get_xml_data(source, 'routes', route=rt))\n"
   ]
  },
  {
   "cell_type": "code",
   "execution_count": 6,
   "metadata": {},
   "outputs": [
    {
     "data": {
      "text/plain": [
       "TWFwKGNvbmZpZ3VyYXRpb249eydhcGlfa2V5JzogdSdBSXphU3lCOFNIT0VhaW9qTlZ4QWRnMjQ2NlktdWpua2UwWWZlUkUnfSwgZGF0YV9ib3VuZHM9WygzOC44Nzg0MzYwMzIyMTc4MSwgLTfigKY=\n"
      ]
     },
     "metadata": {},
     "output_type": "display_data"
    }
   ],
   "source": [
    "# 1. split stops and points (Alex original map)\n",
    "\n",
    "# separate figures for route points and stop points (Alex original version) - direction inbound\n",
    "route_points = []\n",
    "stops_points = []\n",
    "\n",
    "for i in routes[0][direction].points:\n",
    "    if isinstance(i, Buses.Route.Stop):\n",
    "        stops_points.append(i)\n",
    "    else:\n",
    "        route_points.append(i)\n",
    "            \n",
    "m = gmaps.Map()\n",
    "\n",
    "m.add_layer(gmaps.symbol_layer([(float(p.lat), float(p.lon)) for p in route_points], fill_color='green', stroke_color='green', scale=2))\n",
    "m.add_layer(gmaps.symbol_layer([(float(p.lat), float(p.lon)) for p in stops_points], fill_color='red', stroke_color='red', scale=5))\n",
    "m"
   ]
  },
  {
   "cell_type": "code",
   "execution_count": 7,
   "metadata": {},
   "outputs": [
    {
     "data": {
      "text/plain": [
       "TWFwKGNvbmZpZ3VyYXRpb249eydhcGlfa2V5JzogdSdBSXphU3lCOFNIT0VhaW9qTlZ4QWRnMjQ2NlktdWpua2UwWWZlUkUnfSwgZGF0YV9ib3VuZHM9WygzOC44Nzg0MzYwMzIyMTc4MSwgLTfigKY=\n"
      ]
     },
     "metadata": {},
     "output_type": "display_data"
    }
   ],
   "source": [
    "# 2.stops only \n",
    "\n",
    "# separate figures for route points and stop points (Alex original version) - direction inbound\n",
    "route_points = []\n",
    "stops_points = []\n",
    "\n",
    "for i in routes[0][direction].points:\n",
    "    if isinstance(i, Buses.Route.Stop):\n",
    "        stops_points.append(i)\n",
    "    else:\n",
    "        route_points.append(i)\n",
    "            \n",
    "m = gmaps.Map()\n",
    "\n",
    "#m.add_layer(gmaps.symbol_layer([(float(p.lat), float(p.lon)) for p in route_points], fill_color='green', stroke_color='green', scale=2))\n",
    "m.add_layer(gmaps.symbol_layer([(float(p.lat), float(p.lon)) for p in stops_points], fill_color='red', stroke_color='red', scale=5))\n",
    "m"
   ]
  },
  {
   "cell_type": "code",
   "execution_count": 8,
   "metadata": {},
   "outputs": [
    {
     "data": {
      "text/plain": [
       "Figure(layout=FigureLayout(height=u'420px'))"
      ]
     },
     "metadata": {},
     "output_type": "display_data"
    }
   ],
   "source": [
    "# 3. map - simple start-end route, no waypoints\n",
    "\n",
    "# set up the directions-eligible API key\n",
    "import config\n",
    "gmaps.configure(api_key=config.paid_directions_api_key)\n",
    "\n",
    "\n",
    "# separate figures for route points and stop points (Alex original version)\n",
    "route_points = []\n",
    "stops_points = []\n",
    "\n",
    "for i in routes[0][direction].points:\n",
    "    if isinstance(i, Buses.Route.Stop):\n",
    "        stops_points.append(i)\n",
    "    else:\n",
    "        route_points.append(i)\n",
    "\n",
    "end_num = (len(stops_points) - 1)\n",
    "start = (float(stops_points[0].lat), float(stops_points[0].lon))\n",
    "end = (float(stops_points[end_num].lat), float(stops_points[end_num].lon))\n",
    "\n",
    "fig = gmaps.figure()\n",
    "start2end = gmaps.directions_layer(start, end)\n",
    "fig.add_layer(start2end)\n",
    "fig\n",
    "\n"
   ]
  },
  {
   "cell_type": "code",
   "execution_count": 9,
   "metadata": {},
   "outputs": [],
   "source": [
    "# 4. map - waypoints map \n",
    "\n",
    "# set up the directions-eligible API key\n",
    "import config\n",
    "gmaps.configure(api_key=config.paid_directions_api_key)\n",
    "\n",
    "# https://stackoverflow.com/questions/312443/how-do-you-split-a-list-into-evenly-sized-chunks\n",
    "def chunks(l, n):\n",
    "    \"\"\"Yield successive n-sized chunks from l.\"\"\"\n",
    "    for i in range(0, len(l), n):\n",
    "        yield l[i:i + n]\n",
    "\n",
    "# separate figures for route points and stop points (modified from Alex original version)\n",
    "way_points_full = []\n",
    "\n",
    "# no longer distinguish between path stops and points from the XML\n",
    "for i in routes[0][direction].points:\n",
    "    way_points_full.append(i)\n",
    "\n",
    "# slice out the waypoints for mapping\n",
    "number_of_way_points=10 # user configurable up to 24 (maybe limit to 23 since we prepend the start point below)\n",
    "                        # (per https://jupyter-gmaps.readthedocs.io/en/latest/tutorial.html#directions-layer)\n",
    "\n",
    "\n",
    "\n",
    "way_points_bins = list(chunks(way_points_full,(len(way_points_full)/number_of_way_points)))\n",
    "\n",
    "# way_points_bins"
   ]
  },
  {
   "cell_type": "code",
   "execution_count": 10,
   "metadata": {},
   "outputs": [],
   "source": [
    "way_points = []\n",
    "way_points.append(way_points_full[0])  # add the starting point\n",
    "for i in way_points_bins:\n",
    "    way_points.append(i[-1])\n",
    "    \n",
    "way_points_tuples=[]\n",
    "for wp in way_points:\n",
    "    way_points_tuples.append((float(wp.lat),float(wp.lon)))\n",
    "\n",
    "# way_points_tuples"
   ]
  },
  {
   "cell_type": "code",
   "execution_count": 11,
   "metadata": {},
   "outputs": [
    {
     "data": {
      "text/plain": [
       "Figure(layout=FigureLayout(height=u'420px'))"
      ]
     },
     "metadata": {},
     "output_type": "display_data"
    }
   ],
   "source": [
    "# make the map \n",
    "\n",
    "import config\n",
    "gmaps.configure(api_key=config.paid_directions_api_key)\n",
    "\n",
    "end_num = len(way_points)-1\n",
    "start = (float(way_points[0].lat), float(way_points[0].lon))\n",
    "end = (float(way_points[end_num].lat), float(way_points[end_num].lon))\n",
    "\n",
    "waypoint_map = gmaps.figure()\n",
    "points_layer = gmaps.directions_layer(\n",
    "        start, end, waypoints=[x for x in way_points_tuples])\n",
    "waypoint_map.add_layer(points_layer)\n",
    "waypoint_map"
   ]
  }
 ],
 "metadata": {
  "anaconda-cloud": {},
  "kernelspec": {
   "display_name": "Python [default]",
   "language": "python",
   "name": "python2"
  },
  "language_info": {
   "codemirror_mode": {
    "name": "ipython",
    "version": 2
   },
   "file_extension": ".py",
   "mimetype": "text/x-python",
   "name": "python",
   "nbconvert_exporter": "python",
   "pygments_lexer": "ipython2",
   "version": "2.7.14"
  }
 },
 "nbformat": 4,
 "nbformat_minor": 1
}
