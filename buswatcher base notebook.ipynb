{
 "cells": [
  {
   "cell_type": "code",
   "execution_count": 1,
   "metadata": {},
   "outputs": [],
   "source": [
    "# user-configurable\n",
    "source = 'nj'\n",
    "route = '119'\n",
    "stop = '30189'\n",
    "db_server='192.168.1.181'"
   ]
  },
  {
   "cell_type": "code",
   "execution_count": null,
   "metadata": {},
   "outputs": [],
   "source": [
    "# import libraries\n",
    "import datetime, time, sys\n",
    "from operator import itemgetter\n",
    "import pandas as pd"
   ]
  },
  {
   "cell_type": "code",
   "execution_count": null,
   "metadata": {},
   "outputs": [],
   "source": [
    "# import NJT API app libraries\n",
    "import reportcard.lib.BusAPI as BusAPI"
   ]
  },
  {
   "cell_type": "code",
   "execution_count": null,
   "metadata": {},
   "outputs": [],
   "source": [
    "# work with arrival prediction log\n",
    "import reportcard.lib.StopsDB as StopsDB \n",
    "db = StopsDB.MySQL('buses', 'buswatcher', 'njtransit', db_server, route)\n",
    "conn = db.conn\n",
    "table_name = 'stop_approaches_log_' + route"
   ]
  },
  {
   "cell_type": "code",
   "execution_count": null,
   "metadata": {},
   "outputs": [],
   "source": [
    "# work with bus position log\n",
    "import reportcard.lib.BusRouteLogsDB as BusRouteLogsDB\n",
    "db = BusRouteLogsDB.MySQL('buses', 'buswatcher', 'njtransit', db_server, route)\n",
    "conn = db.conn\n",
    "table_name = 'routelog_' + route"
   ]
  },
  {
   "cell_type": "code",
   "execution_count": null,
   "metadata": {},
   "outputs": [],
   "source": [
    "# reportcards (processes dbs into usable tables)\n",
    "import reportcard.lib.ReportCard as rc\n",
    "\n",
    "a_route_report = rc.RouteReport(source,route)\n",
    "a_stop_report = rc.StopReport(route,stop,period)"
   ]
  }
 ],
 "metadata": {
  "kernelspec": {
   "display_name": "Python 2",
   "language": "python",
   "name": "python2"
  },
  "language_info": {
   "codemirror_mode": {
    "name": "ipython",
    "version": 2
   },
   "file_extension": ".py",
   "mimetype": "text/x-python",
   "name": "python",
   "nbconvert_exporter": "python",
   "pygments_lexer": "ipython2",
   "version": "2.7.15"
  }
 },
 "nbformat": 4,
 "nbformat_minor": 2
}
