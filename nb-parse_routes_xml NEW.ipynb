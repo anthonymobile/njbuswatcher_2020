{
 "cells": [
  {
   "cell_type": "code",
   "execution_count": null,
   "metadata": {
    "collapsed": true
   },
   "outputs": [],
   "source": [
    "import urllib2\n",
    "import os\n",
    "import datetime\n",
    "import xml.etree.ElementTree"
   ]
  },
  {
   "cell_type": "code",
   "execution_count": null,
   "metadata": {
    "collapsed": true
   },
   "outputs": [],
   "source": [
    "def _gen_command(source, func, **kwargs):\n",
    "    result = _sources[source] + _api[func]\n",
    "    params = ''\n",
    "    for k, v in kwargs.items():\n",
    "        params = params + k + '=' + str(v) + '&'\n",
    "    if params:\n",
    "        result += '?' + params[:-1]\n",
    "    return result\n",
    "\n",
    "def _cond_get_single(tree, key, default=''):\n",
    "    res = tree.find(key)\n",
    "    if res is not None:\n",
    "        return res.text \n",
    "    return default\n",
    "\n",
    "_sources = {\n",
    "  'nj': 'http://mybusnow.njtransit.com/bustime/map/'\n",
    "}\n",
    "\n",
    "_api = {\n",
    "  'all_buses': 'getBusesForRouteAll.jsp',\n",
    "  'routes': 'getRoutePoints.jsp',\n",
    "  'pattern_points': 'getPatternPoints.jsp',\n",
    "  'stop_predictions': 'getStopPredictions.jsp',\n",
    "  'bus_predictions': 'getBusPredictions.jsp',\n",
    "  'buses_for_route': 'getBusesForRoute.jsp',\n",
    "  'schedules': 'schedules.jsp',\n",
    "  'time_and_temp': 'getTimeAndTemp.jsp',\n",
    "  'route_directions_xml':  'routeDirectionStopAsXML',\n",
    "}"
   ]
  },
  {
   "cell_type": "code",
   "execution_count": null,
   "metadata": {
    "collapsed": true
   },
   "outputs": [],
   "source": [
    "class KeyValueData:\n",
    "    def __init__(self, **kwargs):\n",
    "        self.name = 'KeyValueData'\n",
    "        for k, v in kwargs.items():\n",
    "            setattr(self, k, v)\n",
    "\n",
    "    def add_kv(self, key, value):\n",
    "        setattr(self, key, value)\n",
    "\n",
    "    def __repr__(self):\n",
    "        line = []\n",
    "        for prop, value in vars(self).iteritems():\n",
    "            line.append((prop, value))\n",
    "        line.sort(key=lambda x: x[0])\n",
    "        out_string = ' '.join([k + '=' + str(v) for k, v in line])\n",
    "        return self.name + '[%s]' % out_string"
   ]
  },
  {
   "cell_type": "code",
   "execution_count": null,
   "metadata": {
    "collapsed": false
   },
   "outputs": [],
   "source": [
    "class Route(KeyValueData):\n",
    "\n",
    "    class Path(KeyValueData):\n",
    "        def __init__(self):\n",
    "            KeyValueData.__init__(self)\n",
    "            self.name = 'Path'\n",
    "            self.points = []\n",
    "            self.id = ''\n",
    "            self.d = ''\n",
    "            self.dd = ''\n",
    "\n",
    "    class Point:\n",
    "        def __init__(self):\n",
    "            self.lat = ''\n",
    "            self.lon = ''\n",
    "            self.d = ''\n",
    "\n",
    "    class Stop:\n",
    "        def __init__(self):\n",
    "            self.identity = ''\n",
    "            self.st = ''\n",
    "            self.lat = ''\n",
    "            self.lon = ''\n",
    "            self.d = ''\n",
    "\n",
    "    def __init__(self):\n",
    "        KeyValueData.__init__(self)\n",
    "        self.name = 'route'\n",
    "        self.identity = ''\n",
    "        self.paths = []"
   ]
  },
  {
   "cell_type": "code",
   "execution_count": null,
   "metadata": {
    "collapsed": true
   },
   "outputs": [],
   "source": [
    "# get_xml_data\n",
    "\n",
    "def get_xml_data(source, function, **kwargs):\n",
    "    import urllib2\n",
    "    data = urllib2.urlopen(_gen_command(source, function, **kwargs)).read()\n",
    "    return data"
   ]
  },
  {
   "cell_type": "code",
   "execution_count": null,
   "metadata": {
    "collapsed": true
   },
   "outputs": [],
   "source": [
    "# parse_route_xml\n",
    "\n",
    "def parse_route_xml(data):\n",
    "\n",
    "    routes = list()\n",
    "\n",
    "    route = Route()\n",
    "\n",
    "    e = xml.etree.ElementTree.fromstring(data)\n",
    "    for child in e.getchildren():\n",
    "\n",
    "        if len(child.getchildren()) == 0:\n",
    "            if child.tag == 'id':\n",
    "                route.identity = child.text\n",
    "            else:\n",
    "                route.add_kv(child.tag, child.text)\n",
    "\n",
    "        if child.tag == 'pas':\n",
    "\n",
    "            for pa in child.findall('pa'):\n",
    "\n",
    "                path = Route.Path()\n",
    "\n",
    "                for path_child in pa.getchildren():\n",
    "                    if len(path_child.getchildren()) == 0:\n",
    "                        if path_child.tag == 'id':\n",
    "                            path.id = path_child.text\n",
    "                        elif path_child.tag == 'd':\n",
    "                            path.d = path_child.text\n",
    "                        elif path_child.tag == 'dd':\n",
    "                            path.dd = path_child.text\n",
    "                        else:\n",
    "                            path.add_kv(path_child.tag, path_child.text)\n",
    "                    elif path_child.tag == 'pt':\n",
    "                        pt = path_child\n",
    "                        stop = False\n",
    "                        for bs in pt.findall('bs'):\n",
    "                            stop = True\n",
    "                            _stop_id = _cond_get_single(bs, 'id')\n",
    "                            _stop_st = _cond_get_single(bs, 'st')\n",
    "                            break\n",
    "\n",
    "                        p = None\n",
    "                        if not stop:\n",
    "                            p = Route.Point()\n",
    "                        else:\n",
    "                            p = Route.Stop()\n",
    "                            p.identity = _stop_id\n",
    "                            p.st = _stop_st\n",
    "\n",
    "                        p.d = path.d\n",
    "                        p.lat = _cond_get_single(pt, 'lat')\n",
    "                        p.lon = _cond_get_single(pt, 'lon')\n",
    "\n",
    "                        # diagnostic\n",
    "                        if isinstance(p,Route.Stop):\n",
    "                            print p.d, p.st,p.lat,p.lon\n",
    "                        else:\n",
    "                            print p.d,p.lat, p.lon\n",
    "\n",
    "                        path.points.append(p) # <------ dont append to same list each time\n",
    "\n",
    "                route.paths.append(path)\n",
    "\n",
    "                routes.append(route)\n",
    "\n",
    "            break\n",
    "\n",
    "    return routes"
   ]
  },
  {
   "cell_type": "code",
   "execution_count": null,
   "metadata": {
    "collapsed": false
   },
   "outputs": [],
   "source": [
    "routes=parse_route_xml(get_xml_data('nj', 'routes', route=119))"
   ]
  },
  {
   "cell_type": "code",
   "execution_count": null,
   "metadata": {
    "collapsed": true
   },
   "outputs": [],
   "source": []
  }
 ],
 "metadata": {
  "anaconda-cloud": {},
  "kernelspec": {
   "display_name": "Python [conda env:anaconda2]",
   "language": "python",
   "name": "conda-env-anaconda2-py"
  },
  "language_info": {
   "codemirror_mode": {
    "name": "ipython",
    "version": 2
   },
   "file_extension": ".py",
   "mimetype": "text/x-python",
   "name": "python",
   "nbconvert_exporter": "python",
   "pygments_lexer": "ipython2",
   "version": "2.7.12"
  }
 },
 "nbformat": 4,
 "nbformat_minor": 1
}
