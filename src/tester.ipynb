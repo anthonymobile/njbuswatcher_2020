{
 "cells": [
  {
   "cell_type": "code",
   "execution_count": 1,
   "metadata": {},
   "outputs": [
    {
     "name": "stdout",
     "output_type": "stream",
     "text": [
      "/Users/anthonytownsend/anaconda2/envs/buswatcher/bin/python\n"
     ]
    }
   ],
   "source": [
    "import sys\n",
    "print sys.executable"
   ]
  },
  {
   "cell_type": "code",
   "execution_count": 2,
   "metadata": {},
   "outputs": [],
   "source": [
    "import mysql.connector"
   ]
  },
  {
   "cell_type": "code",
   "execution_count": null,
   "metadata": {},
   "outputs": [
    {
     "ename": "ImportError",
     "evalue": "No module named mysql.connector",
     "output_type": "error",
     "traceback": [
      "\u001b[0;31m---------------------------------------------------------------------------\u001b[0m",
      "\u001b[0;31mImportError\u001b[0m                               Traceback (most recent call last)",
      "\u001b[0;32m<ipython-input-5-5b1a5777781b>\u001b[0m in \u001b[0;36m<module>\u001b[0;34m()\u001b[0m\n\u001b[1;32m      1\u001b[0m \u001b[0;32mfrom\u001b[0m \u001b[0msrc\u001b[0m\u001b[0;34m.\u001b[0m\u001b[0mBusAPI\u001b[0m \u001b[0;32mimport\u001b[0m \u001b[0;34m*\u001b[0m\u001b[0;34m\u001b[0m\u001b[0m\n\u001b[0;32m----> 2\u001b[0;31m \u001b[0;32mfrom\u001b[0m \u001b[0msrc\u001b[0m\u001b[0;34m.\u001b[0m\u001b[0mBusLineDB\u001b[0m \u001b[0;32mimport\u001b[0m \u001b[0;34m*\u001b[0m\u001b[0;34m\u001b[0m\u001b[0m\n\u001b[0m",
      "\u001b[0;32m/Users/anthonytownsend/Dropbox/Desktop/code/active/buses/buswatcher/src/BusLineDB.py\u001b[0m in \u001b[0;36m<module>\u001b[0;34m()\u001b[0m\n\u001b[1;32m      1\u001b[0m \u001b[0;32mimport\u001b[0m \u001b[0mos\u001b[0m\u001b[0;34m\u001b[0m\u001b[0m\n\u001b[1;32m      2\u001b[0m \u001b[0;32mimport\u001b[0m \u001b[0msqlite3\u001b[0m\u001b[0;34m\u001b[0m\u001b[0m\n\u001b[0;32m----> 3\u001b[0;31m \u001b[0;32mfrom\u001b[0m \u001b[0mmysql\u001b[0m\u001b[0;34m.\u001b[0m\u001b[0mconnector\u001b[0m \u001b[0;32mimport\u001b[0m \u001b[0mconnection\u001b[0m\u001b[0;34m\u001b[0m\u001b[0m\n\u001b[0m\u001b[1;32m      4\u001b[0m \u001b[0;32mimport\u001b[0m \u001b[0mdatetime\u001b[0m\u001b[0;34m\u001b[0m\u001b[0m\n\u001b[1;32m      5\u001b[0m \u001b[0;34m\u001b[0m\u001b[0m\n",
      "\u001b[0;31mImportError\u001b[0m: No module named mysql.connector"
     ]
    }
   ],
   "source": [
    "from src.BusAPI import *\n",
    "from src.BusLineDB import *"
   ]
  },
  {
   "cell_type": "code",
   "execution_count": 4,
   "metadata": {},
   "outputs": [
    {
     "data": {
      "text/plain": [
       "[Bus[bid=11004 cars= consist= d=South Bound dd=Bayonne dip=14021 dn=S fs=119 JERSEY CITY VIA CENTRAL BAYOONNE VIA JFK BLVD id=6016 lat=40.7599983215332 lon=-74.02786254882812 m=1 name=Bus op=1121 pd=Bayonne pdRtpiFeedName= pid=1860 rt=119 rtRtpiFeedName= rtdd=119 rtpiFeedName= run=921 wid1=921 wid2=0119],\n",
       " Bus[bid=11005 cars= consist= d=North East Bound dd=Bayonne dip=17515 dn=NE fs=119 JERSEY CITY VIA CENTRAL BAYOONNE VIA JFK BLVD id=6018 lat=40.75530333333333 lon=-74.03356833333333 m=1 name=Bus op=1052 pd=Bayonne pdRtpiFeedName= pid=1860 rt=119 rtRtpiFeedName= rtdd=119 rtpiFeedName= run=914 wid1=914 wid2=0119],\n",
       " Bus[bid=11949 cars= consist= d=South West Bound dd=Bayonne dip=18367 dn=SSW fs=119 JERSEY CITY VIA CENTRAL BAYOONNE VIA JFK BLVD id=6012 lat=40.754180908203125 lon=-74.0362777709961 m=1 name=Bus op=1094 pd=Bayonne pdRtpiFeedName= pid=1860 rt=119 rtRtpiFeedName= rtdd=119 rtpiFeedName= run=920 wid1=920 wid2=0119],\n",
       " Bus[bid=11024 cars= consist= d=North West Bound dd=Bayonne dip=20993 dn=WNW fs=119 JERSEY CITY VIA CENTRAL BAYOONNE VIA JFK BLVD id=6021 lat=40.7488134765625 lon=-74.04066284179687 m=1 name=Bus op=1172 pd=Bayonne pdRtpiFeedName= pid=1860 rt=119 rtRtpiFeedName= rtdd=119 rtpiFeedName= run=915 wid1=915 wid2=0119],\n",
       " Bus[bid=11025 cars= consist= d=South Bound dd=Bayonne dip=29222 dn=SSW fs=119 JERSEY CITY VIA CENTRAL BAYOONNE VIA JFK BLVD id=6011 lat=40.73489399960167 lon=-74.05669844777961 m=1 name=Bus op=1035 pd=Bayonne pdRtpiFeedName= pid=1860 rt=119 rtRtpiFeedName= rtdd=119 rtpiFeedName= run=917 wid1=917 wid2=0119],\n",
       " Bus[bid=11009 cars= consist= d=North West Bound dd=Bayonne dip=29961 dn=WNW fs=119 JERSEY CITY VIA CENTRAL BAYOONNE VIA JFK BLVD id=6196 lat=40.73477798461914 lon=-74.05882110595704 m=1 name=Bus op=1059 pd=Bayonne pdRtpiFeedName= pid=1860 rt=119 rtRtpiFeedName= rtdd=119 rtpiFeedName= run=13 wid1=013 wid2=0119],\n",
       " Bus[bid=4536 cars= consist= d=North West Bound dd=Bayonne dip=30034 dn=WNW fs=119 JERSEY CITY VIA CENTRAL BAYOONNE VIA JFK BLVD id=6033 lat=40.734816603227095 lon=-74.05906469171697 m=1 name=Bus op=1114 pd=Bayonne pdRtpiFeedName= pid=1860 rt=119 rtRtpiFeedName= rtdd=119 rtpiFeedName= run=405 wid1=405 wid2=0022],\n",
       " Bus[bid=11952 cars= consist= d=North East Bound dd=New York dip=31339 dn=NNE fs=119 NEW YORK id=6010 lat=40.71967315673828 lon=-74.07752227783203 m=1 name=Bus op=1003 pd=New York pdRtpiFeedName= pid=38040 rt=119 rtRtpiFeedName= rtdd=119 rtpiFeedName= run=922 wid1=922 wid2=0119],\n",
       " Bus[bid=11950 cars= consist= d=South West Bound dd=Bayonne dip=45916 dn=SW fs=119 JERSEY CITY VIA CENTRAL BAYOONNE VIA JFK BLVD id=6051 lat=40.707343830781824 lon=-74.0881700702742 m=1 name=Bus op=1031 pd=Bayonne pdRtpiFeedName= pid=1860 rt=119 rtRtpiFeedName= rtdd=119 rtpiFeedName= run=916 wid1=916 wid2=0119],\n",
       " Bus[bid=11008 cars= consist= d=North Bound dd=New York dip=50648 dn=NNE fs=119 NEW YORK id=6030 lat=40.7513069152832 lon=-74.03851776123047 m=1 name=Bus op=1064 pd=New York pdRtpiFeedName= pid=38040 rt=119 rtRtpiFeedName= rtdd=119 rtpiFeedName= run=918 wid1=918 wid2=0119],\n",
       " Bus[bid=11026 cars= consist= d=South West Bound dd=Bayonne dip=64347 dn=SSW fs=119 JERSEY CITY VIA CENTRAL BAYOONNE VIA JFK BLVD id=6197 lat=40.6656849200909 lon=-74.12323174109825 m=1 name=Bus op=1006 pd=Bayonne pdRtpiFeedName= pid=1860 rt=119 rtRtpiFeedName= rtdd=119 rtpiFeedName= run=10 wid1=010 wid2=0119],\n",
       " Bus[bid=11951 cars= consist= d=West Bound dd=New York dip=69143 dn=W fs=119 NEW YORK id=6201 lat=40.7571907043457 lon=-73.99260711669922 m=1 name=Bus op=1088 pd=New York pdRtpiFeedName= pid=38040 rt=119 rtRtpiFeedName= rtdd=119 rtpiFeedName= run=919 wid1=919 wid2=0119]]"
      ]
     },
     "execution_count": 4,
     "metadata": {},
     "output_type": "execute_result"
    }
   ],
   "source": [
    "data = parse_xml_getBusesForRoute(get_xml_data('nj', 'buses_for_route', route=119))\n",
    "data"
   ]
  },
  {
   "cell_type": "code",
   "execution_count": null,
   "metadata": {},
   "outputs": [],
   "source": []
  }
 ],
 "metadata": {
  "kernelspec": {
   "display_name": "Python 2",
   "language": "python",
   "name": "python2"
  },
  "language_info": {
   "codemirror_mode": {
    "name": "ipython",
    "version": 2
   },
   "file_extension": ".py",
   "mimetype": "text/x-python",
   "name": "python",
   "nbconvert_exporter": "python",
   "pygments_lexer": "ipython2",
   "version": "2.7.15"
  }
 },
 "nbformat": 4,
 "nbformat_minor": 2
}
