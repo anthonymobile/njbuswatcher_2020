{
 "cells": [
  {
   "cell_type": "code",
   "execution_count": 1,
   "metadata": {},
   "outputs": [],
   "source": [
    "import lib.BusAPI as BusAPI"
   ]
  },
  {
   "cell_type": "code",
   "execution_count": 12,
   "metadata": {},
   "outputs": [],
   "source": [
    "def get_stoplist(source,route): # todo rework this completely to be bulletproof and create a nice stoplist data structure in the instance\n",
    "\n",
    "    routedata = BusAPI.parse_xml_getRoutePoints(BusAPI.get_xml_data(source, 'routes', route=route))\n",
    "\n",
    "    route_list = []\n",
    "    for i in routedata:\n",
    "        path_list = []\n",
    "        for path in i.paths:\n",
    "            stops_points = []\n",
    "            for point in path.points:\n",
    "                if isinstance(point, BusAPI.Route.Stop):\n",
    "                    stops_points.append(point)\n",
    "\n",
    "            path_list.append(stops_points)\n",
    "\n",
    "        route_list.append(path_list)\n",
    "\n",
    "    return route_list[0]  # keep only a single copy of the services list\n",
    "    "
   ]
  },
  {
   "cell_type": "code",
   "execution_count": 20,
   "metadata": {},
   "outputs": [
    {
     "data": {
      "text/plain": [
       "2"
      ]
     },
     "execution_count": 20,
     "metadata": {},
     "output_type": "execute_result"
    }
   ],
   "source": [
    "len(get_stoplist('nj','85'))"
   ]
  },
  {
   "cell_type": "code",
   "execution_count": 2,
   "metadata": {},
   "outputs": [],
   "source": [
    "def get_stoplist_new(source,route): # todo rework this completely to be bulletproof and create a nice stoplist data structure in the instance\n",
    "\n",
    "    routedata = BusAPI.parse_xml_getRoutePoints(BusAPI.get_xml_data(source, 'routes', route=route))\n",
    "\n",
    "    print len(routedata)\n",
    "    \n",
    "    route_list = []\n",
    "    for route in routedata:\n",
    "        print \"route.nm\",route.nm\n",
    "        path_list = []\n",
    "        for path in route.paths:\n",
    "            print \"\\tpath.d\",path.d, \n",
    "            stops_points = []\n",
    "            for point in path.points:\n",
    "                if isinstance(point, BusAPI.Route.Stop):        \n",
    "                    stops_points.append(point)\n",
    "            print len(stops_points),\"stops\"\n",
    "            path_list.append(stops_points)\n",
    "        \n",
    "        route_list.append({path.d:path_list})\n",
    "\n",
    "\n",
    "    return   # keep only a single copy of the services list\n",
    "    "
   ]
  },
  {
   "cell_type": "code",
   "execution_count": 3,
   "metadata": {},
   "outputs": [
    {
     "name": "stdout",
     "output_type": "stream",
     "text": [
      "5\n",
      "route.nm 87 Jersey City - Hoboken\n",
      "\tpath.d Hoboken 52 stops\n",
      "\tpath.d Gates Avenue (Jersey City) 35 stops\n",
      "\tpath.d Gates Avenue (Jersey City) 56 stops\n",
      "\tpath.d Hoboken 33 stops\n",
      "\tpath.d Gates Avenue (Jersey City) 22 stops\n",
      "route.nm 87 Jersey City - Hoboken\n",
      "\tpath.d Hoboken 52 stops\n",
      "\tpath.d Gates Avenue (Jersey City) 35 stops\n",
      "\tpath.d Gates Avenue (Jersey City) 56 stops\n",
      "\tpath.d Hoboken 33 stops\n",
      "\tpath.d Gates Avenue (Jersey City) 22 stops\n",
      "route.nm 87 Jersey City - Hoboken\n",
      "\tpath.d Hoboken 52 stops\n",
      "\tpath.d Gates Avenue (Jersey City) 35 stops\n",
      "\tpath.d Gates Avenue (Jersey City) 56 stops\n",
      "\tpath.d Hoboken 33 stops\n",
      "\tpath.d Gates Avenue (Jersey City) 22 stops\n",
      "route.nm 87 Jersey City - Hoboken\n",
      "\tpath.d Hoboken 52 stops\n",
      "\tpath.d Gates Avenue (Jersey City) 35 stops\n",
      "\tpath.d Gates Avenue (Jersey City) 56 stops\n",
      "\tpath.d Hoboken 33 stops\n",
      "\tpath.d Gates Avenue (Jersey City) 22 stops\n",
      "route.nm 87 Jersey City - Hoboken\n",
      "\tpath.d Hoboken 52 stops\n",
      "\tpath.d Gates Avenue (Jersey City) 35 stops\n",
      "\tpath.d Gates Avenue (Jersey City) 56 stops\n",
      "\tpath.d Hoboken 33 stops\n",
      "\tpath.d Gates Avenue (Jersey City) 22 stops\n"
     ]
    }
   ],
   "source": [
    "get_stoplist_new('nj','87')"
   ]
  },
  {
   "cell_type": "code",
   "execution_count": 100,
   "metadata": {},
   "outputs": [
    {
     "name": "stdout",
     "output_type": "stream",
     "text": [
      "2\n",
      "route.nm 119 Bayonne-Jersey City-NY\n",
      "\tpath.d New York 80 stops\n",
      "\tpath.d Bayonne 79 stops\n",
      "route.nm 119 Bayonne-Jersey City-NY\n",
      "\tpath.d New York 80 stops\n",
      "\tpath.d Bayonne 79 stops\n"
     ]
    }
   ],
   "source": [
    "get_stoplist_new('nj','119')"
   ]
  },
  {
   "cell_type": "code",
   "execution_count": 101,
   "metadata": {},
   "outputs": [
    {
     "name": "stdout",
     "output_type": "stream",
     "text": [
      "2\n",
      "route.nm 85 Mill Crk-HarmonMeadow-Hbken\n",
      "\tpath.d Secaucus 34 stops\n",
      "\tpath.d Hoboken 34 stops\n",
      "route.nm 85 Mill Crk-HarmonMeadow-Hbken\n",
      "\tpath.d Secaucus 34 stops\n",
      "\tpath.d Hoboken 34 stops\n"
     ]
    }
   ],
   "source": [
    "get_stoplist_new('nj','85')"
   ]
  },
  {
   "cell_type": "code",
   "execution_count": 102,
   "metadata": {},
   "outputs": [
    {
     "name": "stdout",
     "output_type": "stream",
     "text": [
      "3\n",
      "route.nm 123 Jersey City-Union City-NY\n",
      "\tpath.d Jersey City 16 stops\n",
      "\tpath.d Jersey City 25 stops\n",
      "\tpath.d New York 24 stops\n",
      "route.nm 123 Jersey City-Union City-NY\n",
      "\tpath.d Jersey City 16 stops\n",
      "\tpath.d Jersey City 25 stops\n",
      "\tpath.d New York 24 stops\n",
      "route.nm 123 Jersey City-Union City-NY\n",
      "\tpath.d Jersey City 16 stops\n",
      "\tpath.d Jersey City 25 stops\n",
      "\tpath.d New York 24 stops\n"
     ]
    }
   ],
   "source": [
    "get_stoplist_new('nj','123')"
   ]
  },
  {
   "cell_type": "code",
   "execution_count": 40,
   "metadata": {},
   "outputs": [],
   "source": [
    "def get_stoplist_new2(source,route): # todo rework this completely to be bulletproof and create a nice stoplist data structure in the instance\n",
    "\n",
    "    routedata = BusAPI.parse_xml_getRoutePoints(BusAPI.get_xml_data(source, 'routes', route=route))\n",
    "\n",
    "    print len(routedata)\n",
    "    \n",
    "    for route in routedata:\n",
    "        print \"route\"\n",
    "        print dir(route)\n",
    "        print route.nm\n",
    "        \n",
    "        for path in route.paths:\n",
    "            # print dir(path)\n",
    "            print path.d,\n",
    "            print path.dd,\n",
    "            print path.id,\n",
    "            print path.l,\n",
    "            print path.name\n",
    "            # path.d <--- this is the thing i need to save along with the points list in a list in the data structure\n",
    "            # so route_stop_list is a list\n",
    "           #      with a list of routes\n",
    "            #         each is a list containing 2 items [d,[another list of points]]\n",
    "                    \n",
    "       \n",
    "                \n",
    "    return   # keep only a single copy of the services list\n",
    "    "
   ]
  },
  {
   "cell_type": "code",
   "execution_count": 41,
   "metadata": {},
   "outputs": [
    {
     "name": "stdout",
     "output_type": "stream",
     "text": [
      "4\n",
      "route\n",
      "['Path', 'Point', 'Stop', '__doc__', '__init__', '__module__', '__repr__', 'add_kv', 'c', 'displayDesignator', 'identity', 'name', 'nm', 'paths', 'rtpiFeedName', 'sbs', 'sn', 'vmode']\n",
      "87 Jersey City - Hoboken\n",
      "Hoboken Hoboken 3393 38344.0 Path\n",
      "Gates Avenue (Jersey City) Gates Avenue (Jersey City) 3391 38196.0 Path\n",
      "Gates Avenue (Jersey City) Gates Avenue (Jersey City) 3395 18529.0 Path\n",
      "Gates Avenue (Jersey City) Gates Avenue (Jersey City) 3390 19667.0 Path\n",
      "route\n",
      "['Path', 'Point', 'Stop', '__doc__', '__init__', '__module__', '__repr__', 'add_kv', 'c', 'displayDesignator', 'identity', 'name', 'nm', 'paths', 'rtpiFeedName', 'sbs', 'sn', 'vmode']\n",
      "87 Jersey City - Hoboken\n",
      "Hoboken Hoboken 3393 38344.0 Path\n",
      "Gates Avenue (Jersey City) Gates Avenue (Jersey City) 3391 38196.0 Path\n",
      "Gates Avenue (Jersey City) Gates Avenue (Jersey City) 3395 18529.0 Path\n",
      "Gates Avenue (Jersey City) Gates Avenue (Jersey City) 3390 19667.0 Path\n",
      "route\n",
      "['Path', 'Point', 'Stop', '__doc__', '__init__', '__module__', '__repr__', 'add_kv', 'c', 'displayDesignator', 'identity', 'name', 'nm', 'paths', 'rtpiFeedName', 'sbs', 'sn', 'vmode']\n",
      "87 Jersey City - Hoboken\n",
      "Hoboken Hoboken 3393 38344.0 Path\n",
      "Gates Avenue (Jersey City) Gates Avenue (Jersey City) 3391 38196.0 Path\n",
      "Gates Avenue (Jersey City) Gates Avenue (Jersey City) 3395 18529.0 Path\n",
      "Gates Avenue (Jersey City) Gates Avenue (Jersey City) 3390 19667.0 Path\n",
      "route\n",
      "['Path', 'Point', 'Stop', '__doc__', '__init__', '__module__', '__repr__', 'add_kv', 'c', 'displayDesignator', 'identity', 'name', 'nm', 'paths', 'rtpiFeedName', 'sbs', 'sn', 'vmode']\n",
      "87 Jersey City - Hoboken\n",
      "Hoboken Hoboken 3393 38344.0 Path\n",
      "Gates Avenue (Jersey City) Gates Avenue (Jersey City) 3391 38196.0 Path\n",
      "Gates Avenue (Jersey City) Gates Avenue (Jersey City) 3395 18529.0 Path\n",
      "Gates Avenue (Jersey City) Gates Avenue (Jersey City) 3390 19667.0 Path\n"
     ]
    }
   ],
   "source": [
    "get_stoplist_new2('nj','87')"
   ]
  },
  {
   "cell_type": "code",
   "execution_count": null,
   "metadata": {},
   "outputs": [],
   "source": []
  }
 ],
 "metadata": {
  "kernelspec": {
   "display_name": "Python 2",
   "language": "python",
   "name": "python2"
  },
  "language_info": {
   "codemirror_mode": {
    "name": "ipython",
    "version": 2
   },
   "file_extension": ".py",
   "mimetype": "text/x-python",
   "name": "python",
   "nbconvert_exporter": "python",
   "pygments_lexer": "ipython2",
   "version": "2.7.15"
  }
 },
 "nbformat": 4,
 "nbformat_minor": 2
}
