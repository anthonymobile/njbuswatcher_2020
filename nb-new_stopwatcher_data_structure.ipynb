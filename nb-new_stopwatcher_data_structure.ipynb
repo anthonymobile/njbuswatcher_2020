{
 "cells": [
  {
   "cell_type": "code",
   "execution_count": 1,
   "metadata": {},
   "outputs": [],
   "source": [
    "# new data structure for STOPWATCHER\n",
    "# build up tables BY VEHICLE - a history of observations of each vehicle\n",
    "# then can go and reconstruct unique history for each VEHICLE, based on last observeration before it STOPPED APPROACHING each stop in the _stoplist_"
   ]
  },
  {
   "cell_type": "code",
   "execution_count": 2,
   "metadata": {},
   "outputs": [],
   "source": [
    "from lib.reportcard_helpers import *\n",
    "import time"
   ]
  },
  {
   "cell_type": "code",
   "execution_count": 3,
   "metadata": {},
   "outputs": [],
   "source": [
    "def timeit(method):\n",
    "    def timed(*args, **kw):\n",
    "        ts = time.time()\n",
    "        result = method(*args, **kw)\n",
    "        te = time.time()\n",
    "        if 'log_time' in kw:\n",
    "            name = kw.get('log_name', method.__name__.upper())\n",
    "            kw['log_time'][name] = int((te - ts) * 1000)\n",
    "        else:\n",
    "            print '%r  %2.2f ms' % \\\n",
    "                  (method.__name__, (te - ts) * 1000)\n",
    "        return result\n",
    "    return timed\n"
   ]
  },
  {
   "cell_type": "code",
   "execution_count": 4,
   "metadata": {},
   "outputs": [],
   "source": [
    "source = 'nj'\n",
    "route = 87"
   ]
  },
  {
   "cell_type": "code",
   "execution_count": 5,
   "metadata": {},
   "outputs": [],
   "source": [
    "(conn, db) = db_setup(route)"
   ]
  },
  {
   "cell_type": "code",
   "execution_count": 6,
   "metadata": {},
   "outputs": [],
   "source": [
    "# only get buses APPROACHING A STOP\n",
    "arrival_query = ('SELECT * FROM stop_predictions \\\n",
    "                WHERE (rd = %s AND pt = \"APPROACHING\") \\\n",
    "                ORDER BY timestamp;' % route)"
   ]
  },
  {
   "cell_type": "code",
   "execution_count": 7,
   "metadata": {},
   "outputs": [],
   "source": [
    "df = pd.read_sql_query(arrival_query, conn)"
   ]
  },
  {
   "cell_type": "code",
   "execution_count": 8,
   "metadata": {},
   "outputs": [],
   "source": [
    "df = timestamp_fix(df)"
   ]
  },
  {
   "cell_type": "code",
   "execution_count": 9,
   "metadata": {},
   "outputs": [],
   "source": [
    "# 1 group all arrival predictions by unique vehicle-stop combinations\n",
    "df.groupby(['v','stop_id'])\n",
    "\n",
    "# 2 gets the keys for unique vehicle-stop combinations\n",
    "# a list of tuples\n",
    "# [(u'5403', u'20640'), (u'5704', u'20933'), .....\n",
    "\n",
    "keys = df.groupby(['v','stop_id']).groups.keys()\n"
   ]
  },
  {
   "cell_type": "code",
   "execution_count": 10,
   "metadata": {},
   "outputs": [],
   "source": [
    "@timeit\n",
    "def make_history(df):\n",
    "\n",
    "    # THIS IS WAYYYYYYY FASTER !!!\n",
    "\n",
    "    # history data structure = assign every row in df to a dict keyed to unique vehicle/stop_id instance\n",
    "    # {\n",
    "    #  5403_20640: [row1, row15, ...]\n",
    "    #  5704_20933: [row2, row37, ...]    \n",
    "    # }\n",
    "\n",
    "    from collections import defaultdict\n",
    "    history = defaultdict(list)\n",
    "\n",
    "    for index,row in df.iterrows():\n",
    "        key = row['v'] + '_' + row['stop_id']\n",
    "        history[key].append(row)\n",
    "\n",
    "    # sort them and slice them\n",
    "\n",
    "    keepers = defaultdict(list)\n",
    "    discards = defaultdict(list)\n",
    "\n",
    "    # iterate over the dict\n",
    "    for key_copy, arrivals in history.iteritems():\n",
    "\n",
    "        # sort each arrival list\n",
    "        arrivals.sort(key=lambda x: x.timestamp)\n",
    "\n",
    "        #\n",
    "        #\n",
    "        # NEED TO GROUPBY ONES THAT HAVE THE SAME GENERAL ARRIVAL WINDOW\n",
    "        #\n",
    "        # PROBLEM WITH BELOW IS THAT IT DOESNT WORK WHEN WE HAVE A FULL HISTORY\n",
    "        # BECAUSE IT DOESNT DETECT EVENTS? e.g. VEHICLE-STOP COMBINATIONS ARE NOT UNIQUE FOR MORE THAN A FEW HOURS\n",
    "        #\n",
    "        #   \n",
    "\n",
    "        # put last row in keepers\n",
    "        keepers[key_copy].append(arrivals[-1])\n",
    "\n",
    "        # put everything else in discards\n",
    "        discards[key_copy].append(arrivals[:-1])\n",
    "        \n",
    "        return keepers,discards\n"
   ]
  },
  {
   "cell_type": "code",
   "execution_count": null,
   "metadata": {},
   "outputs": [],
   "source": [
    "# this isnt working now.... only returning 1?"
   ]
  },
  {
   "cell_type": "code",
   "execution_count": 11,
   "metadata": {},
   "outputs": [
    {
     "name": "stdout",
     "output_type": "stream",
     "text": [
      "'make_history'  557.00 ms\n"
     ]
    }
   ],
   "source": [
    "(keepers,discards) = make_history(df)\n"
   ]
  },
  {
   "cell_type": "code",
   "execution_count": 12,
   "metadata": {},
   "outputs": [
    {
     "name": "stdout",
     "output_type": "stream",
     "text": [
      "defaultdict(<type 'list'>, {u'5739_21124': [pkey                               39568\n",
      "cars                                    \n",
      "consist                                 \n",
      "fd           87 GATES AVE VIA JOURNAL SQ\n",
      "m                                      1\n",
      "name                      StopPrediction\n",
      "pt                           APPROACHING\n",
      "rd                                    87\n",
      "rn                                    87\n",
      "scheduled                          false\n",
      "stop_id                            21124\n",
      "stop_name       SUMMIT AVE + PAVONIA AVE\n",
      "v                                   5739\n",
      "timestamp            2018-06-06 14:53:07\n",
      "Name: 2018-06-06 14:53:07, dtype: object]})\n"
     ]
    }
   ],
   "source": [
    "print keepers"
   ]
  },
  {
   "cell_type": "code",
   "execution_count": 13,
   "metadata": {},
   "outputs": [
    {
     "name": "stdout",
     "output_type": "stream",
     "text": [
      "defaultdict(<type 'list'>, {u'5739_21124': [[]]})\n"
     ]
    }
   ],
   "source": [
    "print discards"
   ]
  },
  {
   "cell_type": "code",
   "execution_count": null,
   "metadata": {},
   "outputs": [],
   "source": []
  }
 ],
 "metadata": {
  "kernelspec": {
   "display_name": "Python [conda env:buswatcher]",
   "language": "python",
   "name": "conda-env-buswatcher-py"
  },
  "language_info": {
   "codemirror_mode": {
    "name": "ipython",
    "version": 2
   },
   "file_extension": ".py",
   "mimetype": "text/x-python",
   "name": "python",
   "nbconvert_exporter": "python",
   "pygments_lexer": "ipython2",
   "version": "2.7.14"
  }
 },
 "nbformat": 4,
 "nbformat_minor": 2
}
