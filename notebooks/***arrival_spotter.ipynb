{
 "cells": [
  {
   "cell_type": "code",
   "execution_count": 1,
   "metadata": {},
   "outputs": [],
   "source": [
    "# arrival_spotter\n",
    "# purpose: takes a list of arrival predictions from GetStopPredictions.jsp (live or from db) \n",
    "# and returns a list of arrivals for all time along an entire route\n",
    "\n",
    "# usage: use with stopwatcher to TK..."
   ]
  },
  {
   "cell_type": "code",
   "execution_count": 2,
   "metadata": {},
   "outputs": [],
   "source": [
    "# algorithm\n",
    "#\n",
    "# 1. slice all observations into by vehicle lists\n",
    "# 2. sort by day, trip/run, stop --> \"an approach\"\n",
    "# 3. for each approach, sort observations by time and keep latest 'approaching' as the observed arrival time\n",
    "# 4. dump a table of all the arrival times for that vehicle along its trip"
   ]
  },
  {
   "cell_type": "code",
   "execution_count": 3,
   "metadata": {},
   "outputs": [],
   "source": [
    "import src.buses.Buses as Buses\n",
    "from src.buses.reportcard_helpers import *"
   ]
  },
  {
   "cell_type": "code",
   "execution_count": 4,
   "metadata": {},
   "outputs": [],
   "source": [
    "import time\n",
    "import pandas as pd"
   ]
  },
  {
   "cell_type": "code",
   "execution_count": 5,
   "metadata": {},
   "outputs": [],
   "source": [
    "source = 'nj'\n",
    "route = 119\n",
    "stop = 30189"
   ]
  },
  {
   "cell_type": "code",
   "execution_count": 6,
   "metadata": {},
   "outputs": [],
   "source": [
    "(conn, db) = db_setup(route)"
   ]
  },
  {
   "cell_type": "code",
   "execution_count": 7,
   "metadata": {},
   "outputs": [],
   "source": [
    "# only get buses APPROACHING A STOP\n",
    "arrival_query = ('SELECT * FROM stop_predictions \\\n",
    "              WHERE (rd = %s AND stop_id = %s AND pt = \"APPROACHING\") \\\n",
    "              ORDER BY timestamp;' % (route, stop))\n",
    "# arrival_query = ('SELECT * FROM stop_predictions;')"
   ]
  },
  {
   "cell_type": "code",
   "execution_count": 8,
   "metadata": {},
   "outputs": [],
   "source": [
    "df = pd.read_sql_query(arrival_query, conn)"
   ]
  },
  {
   "cell_type": "code",
   "execution_count": 14,
   "metadata": {
    "scrolled": true
   },
   "outputs": [
    {
     "data": {
      "text/html": [
       "<div>\n",
       "<style scoped>\n",
       "    .dataframe tbody tr th:only-of-type {\n",
       "        vertical-align: middle;\n",
       "    }\n",
       "\n",
       "    .dataframe tbody tr th {\n",
       "        vertical-align: top;\n",
       "    }\n",
       "\n",
       "    .dataframe thead th {\n",
       "        text-align: right;\n",
       "    }\n",
       "</style>\n",
       "<table border=\"1\" class=\"dataframe\">\n",
       "  <thead>\n",
       "    <tr style=\"text-align: right;\">\n",
       "      <th></th>\n",
       "      <th>pkey</th>\n",
       "      <th>cars</th>\n",
       "      <th>consist</th>\n",
       "      <th>fd</th>\n",
       "      <th>m</th>\n",
       "      <th>name</th>\n",
       "      <th>pt</th>\n",
       "      <th>rd</th>\n",
       "      <th>rn</th>\n",
       "      <th>scheduled</th>\n",
       "      <th>stop_id</th>\n",
       "      <th>stop_name</th>\n",
       "      <th>v</th>\n",
       "      <th>timestamp</th>\n",
       "    </tr>\n",
       "  </thead>\n",
       "  <tbody>\n",
       "    <tr>\n",
       "      <th>0</th>\n",
       "      <td>8774</td>\n",
       "      <td></td>\n",
       "      <td></td>\n",
       "      <td>119 NEW YORK</td>\n",
       "      <td>1</td>\n",
       "      <td>StopPrediction</td>\n",
       "      <td>APPROACHING</td>\n",
       "      <td>119</td>\n",
       "      <td>119</td>\n",
       "      <td>false</td>\n",
       "      <td>30189</td>\n",
       "      <td>CONGRESS ST + WEBSTER AVE</td>\n",
       "      <td>6201</td>\n",
       "      <td>2018-06-07 15:05:10</td>\n",
       "    </tr>\n",
       "    <tr>\n",
       "      <th>1</th>\n",
       "      <td>21853</td>\n",
       "      <td></td>\n",
       "      <td></td>\n",
       "      <td>119 NEW YORK</td>\n",
       "      <td>1</td>\n",
       "      <td>StopPrediction</td>\n",
       "      <td>APPROACHING</td>\n",
       "      <td>119</td>\n",
       "      <td>119</td>\n",
       "      <td>false</td>\n",
       "      <td>30189</td>\n",
       "      <td>CONGRESS ST + WEBSTER AVE</td>\n",
       "      <td>6017</td>\n",
       "      <td>2018-06-07 16:29:07</td>\n",
       "    </tr>\n",
       "    <tr>\n",
       "      <th>2</th>\n",
       "      <td>28533</td>\n",
       "      <td></td>\n",
       "      <td></td>\n",
       "      <td>119 NEW YORK</td>\n",
       "      <td>1</td>\n",
       "      <td>StopPrediction</td>\n",
       "      <td>APPROACHING</td>\n",
       "      <td>119</td>\n",
       "      <td>119</td>\n",
       "      <td>false</td>\n",
       "      <td>30189</td>\n",
       "      <td>CONGRESS ST + WEBSTER AVE</td>\n",
       "      <td>6029</td>\n",
       "      <td>2018-06-07 17:02:06</td>\n",
       "    </tr>\n",
       "    <tr>\n",
       "      <th>3</th>\n",
       "      <td>34702</td>\n",
       "      <td></td>\n",
       "      <td></td>\n",
       "      <td>119 NEW YORK</td>\n",
       "      <td>1</td>\n",
       "      <td>StopPrediction</td>\n",
       "      <td>APPROACHING</td>\n",
       "      <td>119</td>\n",
       "      <td>119</td>\n",
       "      <td>false</td>\n",
       "      <td>30189</td>\n",
       "      <td>CONGRESS ST + WEBSTER AVE</td>\n",
       "      <td>6015</td>\n",
       "      <td>2018-06-07 17:29:11</td>\n",
       "    </tr>\n",
       "    <tr>\n",
       "      <th>4</th>\n",
       "      <td>43210</td>\n",
       "      <td></td>\n",
       "      <td></td>\n",
       "      <td>119 NEW YORK</td>\n",
       "      <td>1</td>\n",
       "      <td>StopPrediction</td>\n",
       "      <td>APPROACHING</td>\n",
       "      <td>119</td>\n",
       "      <td>119</td>\n",
       "      <td>false</td>\n",
       "      <td>30189</td>\n",
       "      <td>CONGRESS ST + WEBSTER AVE</td>\n",
       "      <td>6022</td>\n",
       "      <td>2018-06-07 18:04:10</td>\n",
       "    </tr>\n",
       "  </tbody>\n",
       "</table>\n",
       "</div>"
      ],
      "text/plain": [
       "    pkey cars consist            fd  m            name           pt   rd   rn scheduled stop_id                  stop_name     v            timestamp\n",
       "0   8774               119 NEW YORK  1  StopPrediction  APPROACHING  119  119     false   30189  CONGRESS ST + WEBSTER AVE  6201  2018-06-07 15:05:10\n",
       "1  21853               119 NEW YORK  1  StopPrediction  APPROACHING  119  119     false   30189  CONGRESS ST + WEBSTER AVE  6017  2018-06-07 16:29:07\n",
       "2  28533               119 NEW YORK  1  StopPrediction  APPROACHING  119  119     false   30189  CONGRESS ST + WEBSTER AVE  6029  2018-06-07 17:02:06\n",
       "3  34702               119 NEW YORK  1  StopPrediction  APPROACHING  119  119     false   30189  CONGRESS ST + WEBSTER AVE  6015  2018-06-07 17:29:11\n",
       "4  43210               119 NEW YORK  1  StopPrediction  APPROACHING  119  119     false   30189  CONGRESS ST + WEBSTER AVE  6022  2018-06-07 18:04:10"
      ]
     },
     "execution_count": 14,
     "metadata": {},
     "output_type": "execute_result"
    }
   ],
   "source": [
    "timestamp_fix(df)\n",
    "df.head()"
   ]
  },
  {
   "cell_type": "code",
   "execution_count": 15,
   "metadata": {},
   "outputs": [
    {
     "data": {
      "text/plain": [
       "(97, 14)"
      ]
     },
     "execution_count": 15,
     "metadata": {},
     "output_type": "execute_result"
    }
   ],
   "source": [
    "# 97 observations to work with\n",
    "df.shape"
   ]
  },
  {
   "cell_type": "code",
   "execution_count": 22,
   "metadata": {},
   "outputs": [
    {
     "data": {
      "text/html": [
       "<div>\n",
       "<style scoped>\n",
       "    .dataframe tbody tr th:only-of-type {\n",
       "        vertical-align: middle;\n",
       "    }\n",
       "\n",
       "    .dataframe tbody tr th {\n",
       "        vertical-align: top;\n",
       "    }\n",
       "\n",
       "    .dataframe thead th {\n",
       "        text-align: right;\n",
       "    }\n",
       "</style>\n",
       "<table border=\"1\" class=\"dataframe\">\n",
       "  <thead>\n",
       "    <tr style=\"text-align: right;\">\n",
       "      <th></th>\n",
       "      <th>pkey</th>\n",
       "      <th>pt</th>\n",
       "      <th>rd</th>\n",
       "      <th>stop_id</th>\n",
       "      <th>v</th>\n",
       "      <th>timestamp</th>\n",
       "    </tr>\n",
       "  </thead>\n",
       "  <tbody>\n",
       "    <tr>\n",
       "      <th>0</th>\n",
       "      <td>8774</td>\n",
       "      <td>APPROACHING</td>\n",
       "      <td>119</td>\n",
       "      <td>30189</td>\n",
       "      <td>6201</td>\n",
       "      <td>2018-06-07 15:05:10</td>\n",
       "    </tr>\n",
       "    <tr>\n",
       "      <th>1</th>\n",
       "      <td>21853</td>\n",
       "      <td>APPROACHING</td>\n",
       "      <td>119</td>\n",
       "      <td>30189</td>\n",
       "      <td>6017</td>\n",
       "      <td>2018-06-07 16:29:07</td>\n",
       "    </tr>\n",
       "    <tr>\n",
       "      <th>2</th>\n",
       "      <td>28533</td>\n",
       "      <td>APPROACHING</td>\n",
       "      <td>119</td>\n",
       "      <td>30189</td>\n",
       "      <td>6029</td>\n",
       "      <td>2018-06-07 17:02:06</td>\n",
       "    </tr>\n",
       "    <tr>\n",
       "      <th>3</th>\n",
       "      <td>34702</td>\n",
       "      <td>APPROACHING</td>\n",
       "      <td>119</td>\n",
       "      <td>30189</td>\n",
       "      <td>6015</td>\n",
       "      <td>2018-06-07 17:29:11</td>\n",
       "    </tr>\n",
       "    <tr>\n",
       "      <th>4</th>\n",
       "      <td>43210</td>\n",
       "      <td>APPROACHING</td>\n",
       "      <td>119</td>\n",
       "      <td>30189</td>\n",
       "      <td>6022</td>\n",
       "      <td>2018-06-07 18:04:10</td>\n",
       "    </tr>\n",
       "  </tbody>\n",
       "</table>\n",
       "</div>"
      ],
      "text/plain": [
       "    pkey           pt   rd stop_id     v            timestamp\n",
       "0   8774  APPROACHING  119   30189  6201  2018-06-07 15:05:10\n",
       "1  21853  APPROACHING  119   30189  6017  2018-06-07 16:29:07\n",
       "2  28533  APPROACHING  119   30189  6029  2018-06-07 17:02:06\n",
       "3  34702  APPROACHING  119   30189  6015  2018-06-07 17:29:11\n",
       "4  43210  APPROACHING  119   30189  6022  2018-06-07 18:04:10"
      ]
     },
     "execution_count": 22,
     "metadata": {},
     "output_type": "execute_result"
    }
   ],
   "source": [
    "# drop a ton of columns\n",
    "df = df.drop(columns=['cars','consist','fd','m','name','rn','scheduled','stop_name'])\n",
    "df.head()"
   ]
  },
  {
   "cell_type": "code",
   "execution_count": null,
   "metadata": {},
   "outputs": [],
   "source": [
    "# find the last 'APPROACHING' observation in each 'approach' sequence"
   ]
  },
  {
   "cell_type": "code",
   "execution_count": null,
   "metadata": {},
   "outputs": [],
   "source": [
    "# build a report card for just this one stop, plotting arrivals on a week timeline, and some basic statistics\n"
   ]
  },
  {
   "cell_type": "code",
   "execution_count": null,
   "metadata": {},
   "outputs": [],
   "source": []
  },
  {
   "cell_type": "code",
   "execution_count": null,
   "metadata": {},
   "outputs": [],
   "source": []
  },
  {
   "cell_type": "code",
   "execution_count": null,
   "metadata": {},
   "outputs": [],
   "source": []
  },
  {
   "cell_type": "code",
   "execution_count": null,
   "metadata": {},
   "outputs": [],
   "source": []
  },
  {
   "cell_type": "markdown",
   "metadata": {},
   "source": [
    "### more comprehensive --- new data structure, building up list of visits per bus per stop all history"
   ]
  },
  {
   "cell_type": "code",
   "execution_count": 10,
   "metadata": {},
   "outputs": [],
   "source": [
    "# THIS IS WAYYYYYYY FASTER !!!\n",
    "\n",
    "# dicts of when a specific vehicle has called at a specific stop over all time\n",
    "\n",
    "# history data structure = assign every row in df to a dict keyed to unique vehicle/stop_id instance\n",
    "# {\n",
    "#  5403_20640: [row1, row15, ...]\n",
    "#  5704_20933: [row2, row37, ...]\n",
    "#  unique_bus_stop_combo: [visit, visit, visit, ...]\n",
    "# }\n",
    "\n",
    "from collections import defaultdict\n",
    "history = defaultdict(list)\n",
    "\n",
    "for index,row in df.iterrows():\n",
    "    key = row['v'] + '_' + row['stop_id']\n",
    "    history[key].append(row)\n"
   ]
  },
  {
   "cell_type": "code",
   "execution_count": 11,
   "metadata": {},
   "outputs": [
    {
     "data": {
      "text/plain": [
       "[]"
      ]
     },
     "execution_count": 11,
     "metadata": {},
     "output_type": "execute_result"
    }
   ],
   "source": [
    "history['5241_20581']"
   ]
  },
  {
   "cell_type": "code",
   "execution_count": 12,
   "metadata": {},
   "outputs": [
    {
     "ename": "SyntaxError",
     "evalue": "invalid syntax (<ipython-input-12-4ece37be126e>, line 3)",
     "output_type": "error",
     "traceback": [
      "\u001b[0;36m  File \u001b[0;32m\"<ipython-input-12-4ece37be126e>\"\u001b[0;36m, line \u001b[0;32m3\u001b[0m\n\u001b[0;31m    5241_visits_20581=[]\u001b[0m\n\u001b[0m                    ^\u001b[0m\n\u001b[0;31mSyntaxError\u001b[0m\u001b[0;31m:\u001b[0m invalid syntax\n"
     ]
    }
   ],
   "source": [
    "# turn each into a list or df\n",
    "\n",
    "5241_visits_20581=[]\n",
    "for visit in history['5241_20581']:\n",
    "    5241_visits_20581.append(timestamp)\n",
    "    # compare each timestamp to next\n",
    "    # if next is more than 5 minutes ahead, keep this one -- e.g. this is last in a sequence\n",
    "    \n"
   ]
  },
  {
   "cell_type": "code",
   "execution_count": null,
   "metadata": {},
   "outputs": [],
   "source": [
    "# make list of vehicles in use\n",
    "vehicles=[]\n",
    "for index,row in df.iterrows():\n",
    "    vehicles.append(row['v'])\n",
    "    \n",
    "# get list of stops in route\n",
    "stoplist = get_stoplist(route)\n",
    "\n",
    "# dump the visit log\n",
    "for stop_id in stoplist:\n",
    "    print \"stop %s \" % stop_id\n",
    "    \n",
    "    # cull list of vehicles\n",
    "    \n",
    "    for vehicle in vehicles:\n",
    "        key = vehicle + '_' + stop_id\n",
    "        print \"\\t bus %s\" % vehicle\n",
    "        vehicle_visits = history[key]\n",
    "        \n",
    "        for visit in vehicle_visits:\n",
    "            print \"\\t\\t visit %s\" % visit.timestamp\n",
    "    print\n",
    "        "
   ]
  },
  {
   "cell_type": "markdown",
   "metadata": {},
   "source": [
    "### to do"
   ]
  },
  {
   "cell_type": "code",
   "execution_count": null,
   "metadata": {},
   "outputs": [],
   "source": [
    "# 1. change vehicle list -- \n",
    "#\n",
    "# 2.\n",
    "#\n",
    "# 3. \n",
    "#\n",
    "\n",
    "# if gap if more than 5 minutes then its a different run gap\n"
   ]
  },
  {
   "cell_type": "markdown",
   "metadata": {},
   "source": [
    "### start here ---------------------------------------------------"
   ]
  },
  {
   "cell_type": "code",
   "execution_count": null,
   "metadata": {},
   "outputs": [],
   "source": [
    "# # old stopwatcher\n",
    "# # should run as a cron job\n",
    "# # python stopwatcher.py -s nj -r 87\n",
    "\n",
    "# # all this program does is fetch\n",
    "# # the current arrivals for every stop on a source, route\n",
    "# # and stick it in the database\n",
    "\n",
    "# import buses.Buses as Buses\n",
    "# from buses.reportcard_helpers import *\n",
    "\n",
    "# import argparse, sys, datetime\n",
    "\n",
    "\n",
    "# def fetch_arrivals(source, route):\n",
    "\n",
    "#     (conn, db) = db_setup(route)\n",
    "\n",
    "#     routedata = Buses.parse_route_xml(Buses.get_xml_data(source, 'routes', route=route))\n",
    "\n",
    "#     stoplist = []\n",
    "\n",
    "#     for rt in routedata:\n",
    "#         for path in rt.paths:\n",
    "#             for p in path.points:\n",
    "#                 if p.__class__.__name__ == 'Stop':\n",
    "#                     stoplist.append(p.identity)\n",
    "\n",
    "#     for s in stoplist:\n",
    "#         arrivals = Buses.parse_stopprediction_xml(Buses.get_xml_data('nj', 'stop_predictions', stop=s, route=route))\n",
    "#         # sys.stdout.write('.')\n",
    "#         now = datetime.datetime.now()\n",
    "#         db.insert_positions(arrivals, now)\n",
    "\n",
    "#     return\n",
    "\n",
    "\n",
    "# def main():\n",
    "\n",
    "#     parser = argparse.ArgumentParser()\n",
    "#     parser.add_argument('-s', '--source', dest='source', required=True, default='nj', help='source name')\n",
    "#     parser.add_argument('-r', '--route', dest='route', required=True, help='route # ')\n",
    "#     args = parser.parse_args()\n",
    "\n",
    "#     fetch_arrivals(args.source, args.route)\n",
    "\n",
    "# if __name__ == \"__main__\":\n",
    "#     main()\n"
   ]
  }
 ],
 "metadata": {
  "kernelspec": {
   "display_name": "Python [conda env:buswatcher]",
   "language": "python",
   "name": "conda-env-buswatcher-py"
  },
  "language_info": {
   "codemirror_mode": {
    "name": "ipython",
    "version": 2
   },
   "file_extension": ".py",
   "mimetype": "text/x-python",
   "name": "python",
   "nbconvert_exporter": "python",
   "pygments_lexer": "ipython2",
   "version": "2.7.14"
  }
 },
 "nbformat": 4,
 "nbformat_minor": 2
}
