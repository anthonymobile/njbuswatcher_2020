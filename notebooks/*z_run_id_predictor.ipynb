{
 "cells": [
  {
   "cell_type": "markdown",
   "metadata": {},
   "source": [
    "# Guess Route of a NJT Bus from Clever Devices API "
   ]
  },
  {
   "cell_type": "code",
   "execution_count": 1,
   "metadata": {},
   "outputs": [],
   "source": [
    "# 1. run_id assignor\n",
    "\n",
    "# trains model using a few weeks of statewide bus locations for all NJTransit buses from June 2018\n",
    "# given a vehicle id (obtained from Clever Devices API getStopPredictions.jsp)\n",
    "# will predict what GTFS run # the bus is on\n",
    "# allowing for the vehicle's schedule to be cross-referenced\n",
    "# n.b. the run_id is omitted from the getStopPredictions.jsp API response for inbound buses to the stop\n",
    "\n",
    "# 1st version also used lat + lon\n",
    "# but it turns out that a given bus isn't always at the same geo location on a given run at a given time\n",
    "# so tarining the model that way actually makes it less accurate than simply going on bus id, route, and time\n",
    "# chances are you, you'll line those 3 up much more easily.\n"
   ]
  },
  {
   "cell_type": "code",
   "execution_count": 2,
   "metadata": {},
   "outputs": [],
   "source": [
    "# # config 1\n",
    "# source = 'nj'\n",
    "# route = 119\n",
    "# stop_no = 30189 # webster and congess, jersey city"
   ]
  },
  {
   "cell_type": "code",
   "execution_count": 3,
   "metadata": {},
   "outputs": [],
   "source": [
    "# config 2\n",
    "source = 'nj'\n",
    "route = 87\n",
    "stop_no = 21062 # palisade and south, jersey city"
   ]
  },
  {
   "cell_type": "markdown",
   "metadata": {},
   "source": [
    "## create and train the model"
   ]
  },
  {
   "cell_type": "code",
   "execution_count": 4,
   "metadata": {},
   "outputs": [],
   "source": [
    "import pandas as pd\n",
    "import numpy as np\n",
    "import copy\n"
   ]
  },
  {
   "cell_type": "code",
   "execution_count": 5,
   "metadata": {},
   "outputs": [],
   "source": [
    "# get the training dataset - takes about a minute for Rt. 119\n",
    "# how long for entire database?\n",
    "\n",
    "from mysql.connector import connection\n",
    "db_user ='buswatcher'\n",
    "db_password = 'njtransit'\n",
    "db_host = 'localhost'\n",
    "db_name = 'bus_position_log'\n",
    "conn = connection.MySQLConnection(user=db_user, password=db_password, host=db_host, database=db_name)\n",
    "\n",
    "arrival_query = ('SELECT bid,rt,timestamp,run FROM run_predictor_training_set WHERE (rt=\"%s\");' % route)\n",
    "df = pd.read_sql_query(arrival_query, conn)\n"
   ]
  },
  {
   "cell_type": "code",
   "execution_count": 6,
   "metadata": {},
   "outputs": [
    {
     "data": {
      "text/html": [
       "<div>\n",
       "<style scoped>\n",
       "    .dataframe tbody tr th:only-of-type {\n",
       "        vertical-align: middle;\n",
       "    }\n",
       "\n",
       "    .dataframe tbody tr th {\n",
       "        vertical-align: top;\n",
       "    }\n",
       "\n",
       "    .dataframe thead th {\n",
       "        text-align: right;\n",
       "    }\n",
       "</style>\n",
       "<table border=\"1\" class=\"dataframe\">\n",
       "  <thead>\n",
       "    <tr style=\"text-align: right;\">\n",
       "      <th></th>\n",
       "      <th>v</th>\n",
       "      <th>rt</th>\n",
       "      <th>run</th>\n",
       "      <th>timestamp_ml</th>\n",
       "    </tr>\n",
       "  </thead>\n",
       "  <tbody>\n",
       "    <tr>\n",
       "      <th>0</th>\n",
       "      <td>6960</td>\n",
       "      <td>87</td>\n",
       "      <td>244</td>\n",
       "      <td>191839.0</td>\n",
       "    </tr>\n",
       "    <tr>\n",
       "      <th>1</th>\n",
       "      <td>6852</td>\n",
       "      <td>87</td>\n",
       "      <td>10</td>\n",
       "      <td>191839.0</td>\n",
       "    </tr>\n",
       "    <tr>\n",
       "      <th>2</th>\n",
       "      <td>6943</td>\n",
       "      <td>87</td>\n",
       "      <td>257</td>\n",
       "      <td>191839.0</td>\n",
       "    </tr>\n",
       "    <tr>\n",
       "      <th>3</th>\n",
       "      <td>6963</td>\n",
       "      <td>87</td>\n",
       "      <td>239</td>\n",
       "      <td>191839.0</td>\n",
       "    </tr>\n",
       "    <tr>\n",
       "      <th>4</th>\n",
       "      <td>6938</td>\n",
       "      <td>87</td>\n",
       "      <td>236</td>\n",
       "      <td>191839.0</td>\n",
       "    </tr>\n",
       "  </tbody>\n",
       "</table>\n",
       "</div>"
      ],
      "text/plain": [
       "      v  rt  run  timestamp_ml\n",
       "0  6960  87  244      191839.0\n",
       "1  6852  87   10      191839.0\n",
       "2  6943  87  257      191839.0\n",
       "3  6963  87  239      191839.0\n",
       "4  6938  87  236      191839.0"
      ]
     },
     "execution_count": 6,
     "metadata": {},
     "output_type": "execute_result"
    }
   ],
   "source": [
    "# cleanup crew ------------------------------------------------------------------------\n",
    "\n",
    "# recode 'manager' runs\n",
    "df.replace(\n",
    "        to_replace='MAN',\n",
    "        value=unicode('666'), # vs value=np.NaN,\n",
    "        inplace=True,\n",
    "        limit=None,\n",
    "        regex=False, \n",
    "        method='pad')\n",
    "\n",
    "# fix the timestamp\n",
    "df['timestamp'] = df['timestamp'].str.split('.').str.get(0)\n",
    "df = df.set_index(pd.DatetimeIndex(df['timestamp']), drop=False)\n",
    "\n",
    "# extract the hh:mm:ss part of timestamp\n",
    "df['timestamp_ml'] = df.index.time\n",
    "df['timestamp_ml'] = df['timestamp_ml'].apply(lambda x: float(str(x).replace(\":\",\"\")))\n",
    "\n",
    "\n",
    "# change bid to v for consistency with stopwatcher\n",
    "df.rename(columns = {'bid':'v'}, inplace = True)\n",
    "\n",
    "# straggler strings in run\n",
    "df['run'] = df['run'].str.replace(r'\\D+', '')\n",
    "\n",
    "# get rid of the timestamp\n",
    "df = df.reset_index(drop=True)\n",
    "df = df.drop(columns=['timestamp'])\n",
    "\n",
    "# inspect\n",
    "df.head()\n"
   ]
  },
  {
   "cell_type": "code",
   "execution_count": null,
   "metadata": {},
   "outputs": [],
   "source": [
    "# NOW.....\n",
    "\n",
    "# 1. split df in X and y\n",
    "# 2. encode X (all features) with one-hot so X will be 150,000 by 700, y will be 150,000 by 1\n",
    "# 3. build the model, fit and predict"
   ]
  },
  {
   "cell_type": "code",
   "execution_count": null,
   "metadata": {},
   "outputs": [],
   "source": []
  },
  {
   "cell_type": "code",
   "execution_count": null,
   "metadata": {},
   "outputs": [],
   "source": []
  },
  {
   "cell_type": "code",
   "execution_count": null,
   "metadata": {},
   "outputs": [],
   "source": []
  },
  {
   "cell_type": "code",
   "execution_count": null,
   "metadata": {},
   "outputs": [],
   "source": []
  },
  {
   "cell_type": "code",
   "execution_count": null,
   "metadata": {},
   "outputs": [],
   "source": []
  },
  {
   "cell_type": "code",
   "execution_count": null,
   "metadata": {},
   "outputs": [],
   "source": []
  },
  {
   "cell_type": "code",
   "execution_count": 7,
   "metadata": {},
   "outputs": [],
   "source": [
    "# GOING CRAZY. DO I ENCODE THE TARGET (run) OR NOT? IF DO I GET THE BAD SHAPE THING BELOW. \n",
    "# IF I DON'T I ALWAYS GET THE SAME PREDICTION"
   ]
  },
  {
   "cell_type": "code",
   "execution_count": 19,
   "metadata": {},
   "outputs": [
    {
     "data": {
      "text/plain": [
       "array([[0., 0., 0., ..., 0., 0., 0.],\n",
       "       [0., 0., 0., ..., 0., 0., 0.],\n",
       "       [0., 0., 0., ..., 0., 0., 0.],\n",
       "       ...,\n",
       "       [0., 0., 0., ..., 0., 0., 0.],\n",
       "       [0., 0., 0., ..., 0., 0., 0.],\n",
       "       [0., 0., 0., ..., 0., 0., 0.]])"
      ]
     },
     "execution_count": 19,
     "metadata": {},
     "output_type": "execute_result"
    }
   ],
   "source": [
    "from sklearn.preprocessing import OneHotEncoder\n",
    "enc = OneHotEncoder(sparse=False)\n",
    "enc.fit_transform(df)"
   ]
  },
  {
   "cell_type": "code",
   "execution_count": null,
   "metadata": {},
   "outputs": [],
   "source": []
  },
  {
   "cell_type": "code",
   "execution_count": 10,
   "metadata": {},
   "outputs": [],
   "source": [
    "# encode with pandas\n",
    "df_dummies = pd.get_dummies(df)\n",
    "\n",
    "features = df_dummies.filter(regex='(v|rt|timestamp_ml)', axis=1) # regex for v,rt,run\n",
    "targets= df_dummies.filter(regex='(run)', axis=1) # regex for v,rt,run\n",
    "X = features.values\n",
    "y = targets.values\n"
   ]
  },
  {
   "cell_type": "code",
   "execution_count": 11,
   "metadata": {},
   "outputs": [],
   "source": [
    "# test train split\n",
    "from sklearn.model_selection import train_test_split\n",
    "X_train, X_test, y_train, y_test = train_test_split (X,y, test_size=0.2, random_state=42)"
   ]
  },
  {
   "cell_type": "code",
   "execution_count": 12,
   "metadata": {},
   "outputs": [
    {
     "data": {
      "text/plain": [
       "(120083, 155)"
      ]
     },
     "execution_count": 12,
     "metadata": {},
     "output_type": "execute_result"
    }
   ],
   "source": [
    "X_train.shape"
   ]
  },
  {
   "cell_type": "code",
   "execution_count": 13,
   "metadata": {},
   "outputs": [
    {
     "data": {
      "text/plain": [
       "(120083, 62)"
      ]
     },
     "execution_count": 13,
     "metadata": {},
     "output_type": "execute_result"
    }
   ],
   "source": [
    "y_train.shape"
   ]
  },
  {
   "cell_type": "code",
   "execution_count": 14,
   "metadata": {},
   "outputs": [
    {
     "ename": "ValueError",
     "evalue": "bad input shape (120083, 62)",
     "output_type": "error",
     "traceback": [
      "\u001b[0;31m---------------------------------------------------------------------------\u001b[0m",
      "\u001b[0;31mValueError\u001b[0m                                Traceback (most recent call last)",
      "\u001b[0;32m<ipython-input-14-f410364ac59b>\u001b[0m in \u001b[0;36m<module>\u001b[0;34m()\u001b[0m\n\u001b[1;32m      3\u001b[0m \u001b[0;32mfrom\u001b[0m \u001b[0msklearn\u001b[0m\u001b[0;34m.\u001b[0m\u001b[0mlinear_model\u001b[0m \u001b[0;32mimport\u001b[0m \u001b[0mLogisticRegression\u001b[0m\u001b[0;34m\u001b[0m\u001b[0m\n\u001b[1;32m      4\u001b[0m \u001b[0ml\u001b[0m \u001b[0;34m=\u001b[0m \u001b[0mLogisticRegression\u001b[0m\u001b[0;34m(\u001b[0m\u001b[0;34m)\u001b[0m\u001b[0;34m\u001b[0m\u001b[0m\n\u001b[0;32m----> 5\u001b[0;31m \u001b[0ml\u001b[0m\u001b[0;34m.\u001b[0m\u001b[0mfit\u001b[0m\u001b[0;34m(\u001b[0m\u001b[0mX_train\u001b[0m\u001b[0;34m,\u001b[0m\u001b[0my_train\u001b[0m\u001b[0;34m)\u001b[0m\u001b[0;34m\u001b[0m\u001b[0m\n\u001b[0m\u001b[1;32m      6\u001b[0m \u001b[0;32mprint\u001b[0m \u001b[0;34m(\u001b[0m\u001b[0;34m\">>One-Hot Encoding: Logistic Regression<<\"\u001b[0m\u001b[0;34m)\u001b[0m\u001b[0;34m\u001b[0m\u001b[0m\n\u001b[1;32m      7\u001b[0m \u001b[0;32mprint\u001b[0m \u001b[0;34m\"Train Accuracy :: \"\u001b[0m\u001b[0;34m,\u001b[0m \u001b[0maccuracy_score\u001b[0m\u001b[0;34m(\u001b[0m\u001b[0my_train\u001b[0m\u001b[0;34m,\u001b[0m \u001b[0ml\u001b[0m\u001b[0;34m.\u001b[0m\u001b[0mpredict\u001b[0m\u001b[0;34m(\u001b[0m\u001b[0mX_train\u001b[0m\u001b[0;34m)\u001b[0m\u001b[0;34m)\u001b[0m\u001b[0;34m\u001b[0m\u001b[0m\n",
      "\u001b[0;32m/Users/anthonytownsend/anaconda2/envs/buswatcher/lib/python2.7/site-packages/sklearn/linear_model/logistic.pyc\u001b[0m in \u001b[0;36mfit\u001b[0;34m(self, X, y, sample_weight)\u001b[0m\n\u001b[1;32m   1214\u001b[0m \u001b[0;34m\u001b[0m\u001b[0m\n\u001b[1;32m   1215\u001b[0m         X, y = check_X_y(X, y, accept_sparse='csr', dtype=_dtype,\n\u001b[0;32m-> 1216\u001b[0;31m                          order=\"C\")\n\u001b[0m\u001b[1;32m   1217\u001b[0m         \u001b[0mcheck_classification_targets\u001b[0m\u001b[0;34m(\u001b[0m\u001b[0my\u001b[0m\u001b[0;34m)\u001b[0m\u001b[0;34m\u001b[0m\u001b[0m\n\u001b[1;32m   1218\u001b[0m         \u001b[0mself\u001b[0m\u001b[0;34m.\u001b[0m\u001b[0mclasses_\u001b[0m \u001b[0;34m=\u001b[0m \u001b[0mnp\u001b[0m\u001b[0;34m.\u001b[0m\u001b[0munique\u001b[0m\u001b[0;34m(\u001b[0m\u001b[0my\u001b[0m\u001b[0;34m)\u001b[0m\u001b[0;34m\u001b[0m\u001b[0m\n",
      "\u001b[0;32m/Users/anthonytownsend/anaconda2/envs/buswatcher/lib/python2.7/site-packages/sklearn/utils/validation.pyc\u001b[0m in \u001b[0;36mcheck_X_y\u001b[0;34m(X, y, accept_sparse, dtype, order, copy, force_all_finite, ensure_2d, allow_nd, multi_output, ensure_min_samples, ensure_min_features, y_numeric, warn_on_dtype, estimator)\u001b[0m\n\u001b[1;32m    576\u001b[0m                         dtype=None)\n\u001b[1;32m    577\u001b[0m     \u001b[0;32melse\u001b[0m\u001b[0;34m:\u001b[0m\u001b[0;34m\u001b[0m\u001b[0m\n\u001b[0;32m--> 578\u001b[0;31m         \u001b[0my\u001b[0m \u001b[0;34m=\u001b[0m \u001b[0mcolumn_or_1d\u001b[0m\u001b[0;34m(\u001b[0m\u001b[0my\u001b[0m\u001b[0;34m,\u001b[0m \u001b[0mwarn\u001b[0m\u001b[0;34m=\u001b[0m\u001b[0mTrue\u001b[0m\u001b[0;34m)\u001b[0m\u001b[0;34m\u001b[0m\u001b[0m\n\u001b[0m\u001b[1;32m    579\u001b[0m         \u001b[0m_assert_all_finite\u001b[0m\u001b[0;34m(\u001b[0m\u001b[0my\u001b[0m\u001b[0;34m)\u001b[0m\u001b[0;34m\u001b[0m\u001b[0m\n\u001b[1;32m    580\u001b[0m     \u001b[0;32mif\u001b[0m \u001b[0my_numeric\u001b[0m \u001b[0;32mand\u001b[0m \u001b[0my\u001b[0m\u001b[0;34m.\u001b[0m\u001b[0mdtype\u001b[0m\u001b[0;34m.\u001b[0m\u001b[0mkind\u001b[0m \u001b[0;34m==\u001b[0m \u001b[0;34m'O'\u001b[0m\u001b[0;34m:\u001b[0m\u001b[0;34m\u001b[0m\u001b[0m\n",
      "\u001b[0;32m/Users/anthonytownsend/anaconda2/envs/buswatcher/lib/python2.7/site-packages/sklearn/utils/validation.pyc\u001b[0m in \u001b[0;36mcolumn_or_1d\u001b[0;34m(y, warn)\u001b[0m\n\u001b[1;32m    612\u001b[0m         \u001b[0;32mreturn\u001b[0m \u001b[0mnp\u001b[0m\u001b[0;34m.\u001b[0m\u001b[0mravel\u001b[0m\u001b[0;34m(\u001b[0m\u001b[0my\u001b[0m\u001b[0;34m)\u001b[0m\u001b[0;34m\u001b[0m\u001b[0m\n\u001b[1;32m    613\u001b[0m \u001b[0;34m\u001b[0m\u001b[0m\n\u001b[0;32m--> 614\u001b[0;31m     \u001b[0;32mraise\u001b[0m \u001b[0mValueError\u001b[0m\u001b[0;34m(\u001b[0m\u001b[0;34m\"bad input shape {0}\"\u001b[0m\u001b[0;34m.\u001b[0m\u001b[0mformat\u001b[0m\u001b[0;34m(\u001b[0m\u001b[0mshape\u001b[0m\u001b[0;34m)\u001b[0m\u001b[0;34m)\u001b[0m\u001b[0;34m\u001b[0m\u001b[0m\n\u001b[0m\u001b[1;32m    615\u001b[0m \u001b[0;34m\u001b[0m\u001b[0m\n\u001b[1;32m    616\u001b[0m \u001b[0;34m\u001b[0m\u001b[0m\n",
      "\u001b[0;31mValueError\u001b[0m: bad input shape (120083, 62)"
     ]
    }
   ],
   "source": [
    "# fit the models\n",
    "\n",
    "from sklearn.linear_model import LogisticRegression\n",
    "l = LogisticRegression()\n",
    "l.fit(X_train,y_train)\n",
    "print (\">>One-Hot Encoding: Logistic Regression<<\")\n",
    "print \"Train Accuracy :: \", accuracy_score(y_train, l.predict(X_train))\n",
    "print \"Test Accuracy  :: \", accuracy_score(y_test, l.predict(X_test))\n",
    "print (\"Accuracy on training set: {:.3f}\".format(l.score(X_train,y_train)))  # AT add\n",
    "print (\"Accuracy on test set: {:.3f}\".format(l.score(X_test,y_test))) # AT add\n",
    "\n",
    "# from sklearn.ensemble import RandomForestClassifier\n",
    "# r = RandomForestClassifier(n_estimators=25,max_depth=10)\n",
    "# r.fit(X_train_one_hot,y_train.values.ravel()) \n",
    "# print (\">>One-Hot Encoding: Random Forest<<\")\n",
    "# print (\"Accuracy on training set: {:.3f}\".format(r.score(X_train_one_hot,y_train)))  # AT add\n",
    "# print (\"Accuracy on test set: {:.3f}\".format(r.score(X_test_one_hot,y_test))) # AT add\n",
    "\n",
    "# from sklearn.neighbors import KNeighborsClassifier\n",
    "# k = KNeighborsClassifier(n_neighbors=3)\n"
   ]
  },
  {
   "cell_type": "markdown",
   "metadata": {},
   "source": [
    "## make some predictions on actual data"
   ]
  },
  {
   "cell_type": "code",
   "execution_count": null,
   "metadata": {},
   "outputs": [],
   "source": [
    "# get the arrival predictions for NOW for this STOP\n",
    "from src.buses.Buses import *\n",
    "import datetime\n",
    "now = datetime.datetime.now()\n",
    "arrivals = parse_stopprediction_xml(get_xml_data(source, 'stop_predictions', stop=stop_no, route=route))\n",
    "arrivals"
   ]
  },
  {
   "cell_type": "code",
   "execution_count": null,
   "metadata": {},
   "outputs": [],
   "source": [
    "# make arrivals look like X_train\n",
    "\n",
    "arrivals_temp = []\n",
    "\n",
    "for bus in arrivals:\n",
    "    bus.timestamp_ml = float(str(now.hour)+str(now.minute)+str(now.second))\n",
    "    arrivals_temp.append([bus.v,bus.rd,bus.timestamp_ml])\n",
    "\n",
    "X_production_one_hot=enc.transform(arrivals_temp)\n"
   ]
  },
  {
   "cell_type": "code",
   "execution_count": null,
   "metadata": {},
   "outputs": [],
   "source": [
    "l.predict(X_production_one_hot)"
   ]
  },
  {
   "cell_type": "code",
   "execution_count": null,
   "metadata": {},
   "outputs": [],
   "source": [
    "import sys\n",
    "sys.exit()"
   ]
  },
  {
   "cell_type": "code",
   "execution_count": null,
   "metadata": {
    "scrolled": true
   },
   "outputs": [],
   "source": [
    "# loop over arrivals, adding predicted run_id\n",
    "\n",
    "for bus in X_production_one_hot:\n",
    "    run_id_predicted = l.predict(bus)\n",
    "    print run_id_predicted"
   ]
  },
  {
   "cell_type": "code",
   "execution_count": null,
   "metadata": {},
   "outputs": [],
   "source": [
    "# look up the scheduled arrival time for this run, stop\n",
    "\n",
    "# setup the schedules\n",
    "\n",
    "import pygtfs\n",
    "sched = pygtfs.Schedule('../data/gtfs/njtbus.sqlite3')\n",
    "gtfs_route_id = 13 # hardcoded for now (NJT #119)"
   ]
  },
  {
   "cell_type": "code",
   "execution_count": null,
   "metadata": {},
   "outputs": [],
   "source": [
    "# exploring the run schedule\n",
    "# TRIP -- STOP -- TIME\n",
    "schedule_as_list=[]\n",
    "route_schedule = sched.routes_by_id(gtfs_route_id)[0]\n",
    "for trip in route_schedule.trips:\n",
    "    print trip.trip_id, trip.direction_id\n",
    "    for stoptime in trip.stop_times:\n",
    "        # print stoptime.trip_id, stoptime.stop_id, stoptime.arrival_time\n",
    "        schedule_as_list.append([stoptime.trip_id, stoptime.stop_id, stoptime.arrival_time])\n",
    "\n",
    "        \n",
    "# for x in schedule_as_list:\n",
    "#     print x[0],\n",
    "#     if int(x[0]) == gtfs_route_id:\n",
    "#         print x[0],"
   ]
  },
  {
   "cell_type": "code",
   "execution_count": null,
   "metadata": {},
   "outputs": [],
   "source": [
    "# compute how late it is"
   ]
  },
  {
   "cell_type": "code",
   "execution_count": null,
   "metadata": {},
   "outputs": [],
   "source": [
    "# then log to a run history file"
   ]
  },
  {
   "cell_type": "code",
   "execution_count": null,
   "metadata": {},
   "outputs": [],
   "source": []
  }
 ],
 "metadata": {
  "kernelspec": {
   "display_name": "Python [conda env:buswatcher]",
   "language": "python",
   "name": "conda-env-buswatcher-py"
  },
  "language_info": {
   "codemirror_mode": {
    "name": "ipython",
    "version": 2
   },
   "file_extension": ".py",
   "mimetype": "text/x-python",
   "name": "python",
   "nbconvert_exporter": "python",
   "pygments_lexer": "ipython2",
   "version": "2.7.14"
  }
 },
 "nbformat": 4,
 "nbformat_minor": 2
}
