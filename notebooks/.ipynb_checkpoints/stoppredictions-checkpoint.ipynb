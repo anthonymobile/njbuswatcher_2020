{
 "cells": [
  {
   "cell_type": "code",
   "execution_count": 1,
   "metadata": {
    "collapsed": true
   },
   "outputs": [],
   "source": [
    "import Buses\n",
    "import gmaps\n",
    "gmaps.configure(api_key=redacted)"
   ]
  },
  {
   "cell_type": "code",
   "execution_count": 2,
   "metadata": {
    "collapsed": false
   },
   "outputs": [],
   "source": [
    "route = Buses.parse_route_xml(Buses.get_xml_data('nj', 'routes', route=126))"
   ]
  },
  {
   "cell_type": "code",
   "execution_count": 3,
   "metadata": {
    "collapsed": false
   },
   "outputs": [],
   "source": [
    "route_points = []\n",
    "stops_points = []\n",
    "for path in route.paths:\n",
    "    for point in path.points:\n",
    "        if isinstance(point, Buses.Route.Stop):\n",
    "            stops_points.append(point)\n",
    "        else:\n",
    "            route_points.append(point)"
   ]
  },
  {
   "cell_type": "code",
   "execution_count": 7,
   "metadata": {
    "collapsed": false
   },
   "outputs": [],
   "source": [
    "m = gmaps.Map()\n",
    "m.add_layer(gmaps.symbol_layer([(float(p.lat), float(p.lon)) for p in route_points], fill_color='green', stroke_color='green', scale=2))\n",
    "m.add_layer(gmaps.symbol_layer([(float(p.lat), float(p.lon)) for p in stops_points], fill_color='red', stroke_color='red', scale=5))\n",
    "m"
   ]
  }
 ],
 "metadata": {
  "anaconda-cloud": {},
  "kernelspec": {
   "display_name": "Python [default]",
   "language": "python",
   "name": "python2"
  },
  "language_info": {
   "codemirror_mode": {
    "name": "ipython",
    "version": 2
   },
   "file_extension": ".py",
   "mimetype": "text/x-python",
   "name": "python",
   "nbconvert_exporter": "python",
   "pygments_lexer": "ipython2",
   "version": "2.7.12"
  },
  "widgets": {
   "state": {
    "246ad75e066346bf930627add86afa65": {
     "views": [
      {
       "cell_index": 3
      }
     ]
    }
   },
   "version": "1.2.0"
  }
 },
 "nbformat": 4,
 "nbformat_minor": 1
}
