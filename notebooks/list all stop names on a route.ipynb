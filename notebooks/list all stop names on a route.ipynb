{
 "cells": [
  {
   "cell_type": "code",
   "execution_count": 8,
   "metadata": {},
   "outputs": [],
   "source": [
    "import os\n",
    "import sys\n",
    "\n",
    "# relative import\n",
    "module_path = os.path.abspath(os.path.join('..'))\n",
    "if module_path not in sys.path:\n",
    "    sys.path.append(module_path)\n",
    "import src.lib.BusAPI as Buses"
   ]
  },
  {
   "cell_type": "code",
   "execution_count": 9,
   "metadata": {},
   "outputs": [],
   "source": [
    "source = 'nj'\n",
    "rt = 119"
   ]
  },
  {
   "cell_type": "code",
   "execution_count": 12,
   "metadata": {},
   "outputs": [],
   "source": [
    "# THIS WORKS\n",
    "# BUT LOOPING 4X? 2X for each direction, maybe just take the first i?\n",
    "# or slice the list [2:] after its done\n",
    "\n",
    "xXX_routes=Buses.parse_xml_getRoutePoints(Buses.get_xml_data(source, 'routes', route=rt))\n",
    "\n",
    "route_list = []\n",
    "for i in routes: # 2 routes\n",
    "    \n",
    "    path_list = []\n",
    "\n",
    "    for path in i.paths: # 4 paths (2 in each route) \n",
    "        \n",
    "        stops_points = []\n",
    "        \n",
    "        for point in path.points:      \n",
    "            if isinstance(point, Buses.Route.Stop):\n",
    "                stops_points.append(point)\n",
    "        \n",
    "        path_list.append(stops_points)\n",
    "    \n",
    "   \n",
    "    route_list.append(path_list)\n",
    "    \n",
    "route_list=route_list[0]\n"
   ]
  },
  {
   "cell_type": "code",
   "execution_count": 17,
   "metadata": {},
   "outputs": [
    {
     "name": "stdout",
     "output_type": "stream",
     "text": [
      "JFK BLVD + 3RD ST\n",
      "JFK BLVD + 4TH ST\n",
      "JFK BLVD + W 7TH STREET\n",
      "JFK BLVD + 8TH ST\n",
      "JFK BLVD + 10TH ST\n",
      "JFK BLVD + 12TH ST\n",
      "JFK BLVD + 14TH ST\n",
      "JFK BLVD + 16TH ST\n",
      "JFK BLVD + ANDREW ST\n",
      "JFK BLVD + 19TH ST\n",
      "JFK BLVD + 21ST ST\n",
      "JFK BLVD + 23RD ST\n",
      "JFK BLVD + 27TH ST\n",
      "JFK BLVD + 30TH ST\n",
      "JFK BLVD + 32ND ST\n",
      "JFK BLVD + 34TH ST\n",
      "JFK BLVD + 38 TH ST\n",
      "JFK BLVD + 39TH ST\n",
      "JFK BLVD + DELVIN DR\n",
      "JFK BLVD + 44TH ST\n",
      "JFK BLVD + 48TH ST\n",
      "JFK BLVD + 50TH ST\n",
      "JFK BLVD + 52ND ST\n",
      "JFK BLVD + 54TH ST\n",
      "JFK BLVD + 57TH ST\n",
      "JFK BLVD + 58TH ST\n",
      "JFK BLVD + 63RD ST\n",
      "JFK BLVD + GATES AVE\n",
      "JFK BLVD + WINFIELD AVE\n",
      "JFK BLVD + PEARSALL AVE\n",
      "JFK BLVD + GREENVILLE AVE\n",
      "JFK BLVD + DANFORTH AVE\n",
      "JFK BLVD + MCADOO AVE\n",
      "JFK BLVD + WADE ST\n",
      "JFK BLVD + FOWLER AVE\n",
      "JFK BLVD + WOODLAWN AVE\n",
      "JFK BLVD + DWIGHT ST\n",
      "JFK BLVD + AUDUBON AVE\n",
      "JFK BLVD + BAYVIEW AVENUE\n",
      "JFK BLVD + BROADMAN PKWY\n",
      "JFK BLVD + CLAREMONT AVE\n",
      "JFK BLVD + MORTON PL\n",
      "JFK BLVD + EGE AVE\n",
      "JFK BLVD + BOYD AVE\n",
      "JFK BLVD + CLENDENNY AVE\n",
      "JFK BLVD + CLINTON AVE\n",
      "JFK BLVD + COMMUNIPAW AVE\n",
      "JFK BLVD + BENTLEY AVE\n",
      "JFK BLVD + KENSINGTON AVE\n",
      "JFK BLVD + JEWETT AVE\n",
      "JFK BLVD + DUNCAN AVE\n",
      "JFK BLVD + MONTGOMERY ST\n",
      "JFK BLVD + GLENWOOD AVE\n",
      "JFK BLVD + STUYVESANT AVE\n",
      "JFK BLVD + SIP AVE\n",
      "SIP AVE + TONNELLE AVE\n",
      "JOURNAL SQUARE LANE D\n",
      "HOBOKEN AVE + SUMMIT AVE\n",
      "CENTRAL AVE + HOBOKEN AVE\n",
      "CENTRAL AVE + SAINT PAULS AVE\n",
      "CENTRAL AVE + BEACON AVE\n",
      "CENTRAL AVE + WAVERLY ST\n",
      "CENTRAL AVE + RESERVOIR AVE\n",
      "CENTRAL AVE + BOORAEM AVE\n",
      "CENTRAL AVE + MANHATTAN AVE\n",
      "CENTRAL AVE + FRANKLIN ST\n",
      "CENTRAL AVE + HUTTON ST\n",
      "CENTRAL AVE + GRIFFITH ST\n",
      "CENTRAL AVE + BOWERS ST\n",
      "CENTRAL AVE + CHARLES ST\n",
      "CENTRAL AVE + SOUTH ST\n",
      "CENTRAL AVE + CONGRESS ST\n",
      "CONGRESS ST + HANCOCK AVE\n",
      "CONGRESS ST + WEBSTER AVE\n",
      "CONGRESS ST + PALISADE AVE\n",
      "CONGRESS ST HBLR STATION\n",
      "S WING VIADUCT + PATERSON PLANK ROAD\n",
      "WILLOW AVE + 15TH ST\n",
      "WILLOW AVE + 19TH ST\n",
      "PORT AUTHORITY BUS TERMINAL + EAST END ARRIVAL\n"
     ]
    }
   ],
   "source": [
    "for stop in route_list[0]:\n",
    "    print stop.st"
   ]
  },
  {
   "cell_type": "code",
   "execution_count": 7,
   "metadata": {},
   "outputs": [
    {
     "data": {
      "text/plain": [
       "[[<src.lib.BusAPI.Stop instance at 0x10376fab8>],\n",
       " [<src.lib.BusAPI.Stop instance at 0x103676c20>]]"
      ]
     },
     "execution_count": 7,
     "metadata": {},
     "output_type": "execute_result"
    }
   ],
   "source": [
    "route_list"
   ]
  }
 ],
 "metadata": {
  "kernelspec": {
   "display_name": "Python 2",
   "language": "python",
   "name": "python2"
  },
  "language_info": {
   "codemirror_mode": {
    "name": "ipython",
    "version": 2
   },
   "file_extension": ".py",
   "mimetype": "text/x-python",
   "name": "python",
   "nbconvert_exporter": "python",
   "pygments_lexer": "ipython2",
   "version": "2.7.15"
  }
 },
 "nbformat": 4,
 "nbformat_minor": 2
}
