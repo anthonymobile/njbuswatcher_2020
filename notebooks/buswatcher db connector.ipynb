{
 "cells": [
  {
   "cell_type": "code",
   "execution_count": null,
   "metadata": {},
   "outputs": [],
   "source": [
    "# relative import\n",
    "import os,sys,inspect\n",
    "currentdir = os.path.dirname(os.path.abspath(inspect.getfile(inspect.currentframe())))\n",
    "parentdir = os.path.dirname(currentdir)\n",
    "sys.path.insert(0,parentdir) \n",
    "\n",
    "from src.buses.reportcard_helpers import *"
   ]
  },
  {
   "cell_type": "markdown",
   "metadata": {},
   "source": [
    "### UNTESTED BELOW ------------------------------------------------------------------------------------------------"
   ]
  },
  {
   "cell_type": "code",
   "execution_count": 6,
   "metadata": {},
   "outputs": [],
   "source": [
    "import sys\n",
    "# the mock-0.3.1 dir contains testcase.py, testutils.py & mock.py\n",
    "sys.path.append('/Users/anthonytownsend/code/buswatcher')\n",
    "\n",
    "from mysql.connector import connection\n",
    "import Buses"
   ]
  },
  {
   "cell_type": "code",
   "execution_count": 7,
   "metadata": {},
   "outputs": [],
   "source": [
    "db_user ='buswatcher'\n",
    "db_password = 'njtransit'\n",
    "db_host = 'localhost'\n",
    "db_name = 'bus_position_log'"
   ]
  },
  {
   "cell_type": "code",
   "execution_count": 8,
   "metadata": {},
   "outputs": [],
   "source": [
    "conn = connection.MySQLConnection(user=db_user, password=db_password, host=db_host, database=db_name)\n",
    "cursor = conn.cursor(buffered=True)"
   ]
  },
  {
   "cell_type": "code",
   "execution_count": 9,
   "metadata": {},
   "outputs": [],
   "source": [
    "query = (\"select count(*) from positions\")"
   ]
  },
  {
   "cell_type": "code",
   "execution_count": 10,
   "metadata": {},
   "outputs": [],
   "source": [
    "# template for multi-line query\n",
    "\n",
    "# query = query = (\n",
    "#  \"SELECT s.emp_no, salary, from_date, to_date FROM employees AS e \"\n",
    "#  \"LEFT JOIN salaries AS s USING (emp_no) \"\n",
    "#  \"WHERE to_date = DATE('9999-01-01')\"\n",
    "#  \"AND e.hire_date BETWEEN DATE(%s) AND DATE(%s)\")"
   ]
  },
  {
   "cell_type": "code",
   "execution_count": 12,
   "metadata": {},
   "outputs": [
    {
     "name": "stdout",
     "output_type": "stream",
     "text": [
      "(1, 40.708179, -74.176773, u'', u'2514', u'#006699', u'', u'', u'East Bound', u'East Bound', u'E', u'114 NEW YORK', u'8226', u'1', u'340801', u'New York', u'', u'1837', u'114', u'', u'114', u'', u'2', u'002', u'0114', u'2018-05-07 11:38:48.929110')\n",
      "(2, 40.578554, -74.220513, u'', u'2455', u'#6633ff', u'', u'', u'North East Bound', u'North East Bound', u'NE', u'116 NEW YORK', u'8221', u'1', u'338199', u'New York', u'', u'29492', u'116', u'', u'116', u'', u'2', u'002', u'0113', u'2018-05-07 11:38:48.929110')\n",
      "(3, 39.918606, -75.102128, u'', u'3922', u'#336633', u'', u'', u'North Bound', u'North Bound', u'NNW', u'453 CAMDEN FEDERAL&DELW', u'5374', u'1', u'343180', u'Federal St at De', u'', u'2732', u'453', u'', u'453', u'', u'1', u'001', u'0453', u'2018-05-07 11:38:48.929110')\n",
      "(4, 39.848701, -75.072869, u'', u'3925', u'#999933', u'', u'', u'North East Bound', u'North East Bound', u'NE', u'455 CHERRY HILL MALL', u'5373', u'1', u'494040', u'Cherry Hill Mall', u'', u'2739', u'455', u'', u'455', u'', u'2', u'002', u'0455', u'2018-05-07 11:38:48.929110')\n",
      "(5, 39.827178, -75.25372, u'', u'3926', u'#999933', u'', u'', u'South Bound', u'South Bound', u'SSE', u'455 PAULSBORO', u'5372', u'1', u'N/A', u'National Park/Pa', u'', u'92026', u'455', u'', u'455', u'', u'1', u'001', u'0455', u'2018-05-07 11:38:48.929110')\n",
      "(6, 39.940227, -75.111068, u'', u'3984', u'#FFFFFF', u'', u'', u'North Bound', u'North Bound', u'NNE', u'N/A', u'5371', u'1', u'459050', u'N/A', u'', u'0', u'PI', u'', u'PI', u'', u'801', u'801', u'0451', u'2018-05-07 11:38:48.929110')\n",
      "(7, 40.848877, -73.937877, u'', u'2043', u'#663399', u'', u'', u'South West Bound', u'South West Bound', u'SW', u'182 NEW YORK  GW BRIDGE BUS STATION', u'5378', u'1', u'310217', u'New York (GWB)', u'', u'2233', u'182', u'', u'182', u'', u'5', u'005', u'0178', u'2018-05-07 11:38:48.929110')\n",
      "(8, 40.893632, -73.974265, u'', u'2044', u'#6633ff', u'', u'', u'North West Bound', u'North West Bound', u'NW', u'186 DUMONT CHESTNUT BEND', u'5376', u'1', u'360780', u'Dumont', u'', u'14394', u'186', u'', u'186', u'', u'2', u'002', u'0175', u'2018-05-07 11:38:48.929110')\n",
      "(9, 39.954121, -75.014931, u'', u'3955', u'#ff6699', u'', u'', u'West Bound', u'West Bound', u'W', u'407 CAMDEN WRTC', u'5369', u'1', u'422710', u'Camden', u'', u'92002', u'407', u'', u'407', u'', u'10', u'010', u'0407', u'2018-05-07 11:38:48.929110')\n",
      "(10, 39.951473, -74.204232, u'', u'4650', u'#339933', u'', u'', u'West Bound', u'West Bound', u'W', u'67 TOMS RIVER VIA LAKEWOOD', u'8217', u'1', u'509430', u'Lakewood/Toms Ri', u'', u'89152', u'67', u'', u'67', u'', u'105', u'105', u'0137', u'2018-05-07 11:38:48.929110')\n"
     ]
    }
   ],
   "source": [
    "try:\n",
    "    cursor.execute(\"SELECT * FROM positions LIMIT 10\")\n",
    "    row = cursor.fetchone()\n",
    "    while row is not None:\n",
    "        print(row)\n",
    "        row = cursor.fetchone()\n",
    "\n",
    "except Error as e:\n",
    "    print(e)"
   ]
  },
  {
   "cell_type": "code",
   "execution_count": null,
   "metadata": {},
   "outputs": [],
   "source": []
  }
 ],
 "metadata": {
  "kernelspec": {
   "display_name": "Python [conda env:buswatcher]",
   "language": "python",
   "name": "conda-env-buswatcher-py"
  },
  "language_info": {
   "codemirror_mode": {
    "name": "ipython",
    "version": 2
   },
   "file_extension": ".py",
   "mimetype": "text/x-python",
   "name": "python",
   "nbconvert_exporter": "python",
   "pygments_lexer": "ipython2",
   "version": "2.7.14"
  }
 },
 "nbformat": 4,
 "nbformat_minor": 2
}
