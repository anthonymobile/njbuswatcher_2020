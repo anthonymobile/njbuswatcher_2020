{
 "cells": [
  {
   "cell_type": "code",
   "execution_count": 1,
   "metadata": {},
   "outputs": [],
   "source": [
    "# config\n",
    "route = '87'\n",
    "timed_course_start = '21062' # 87 palisade and south\n",
    "timed_course_end ='20505' # 87 paterson plank and harrison\n",
    "period = 'today'"
   ]
  },
  {
   "cell_type": "code",
   "execution_count": 2,
   "metadata": {},
   "outputs": [],
   "source": [
    "# import libraries\n",
    "import datetime, time, sys\n",
    "from operator import itemgetter\n",
    "import pandas as pd\n",
    "\n",
    "# import app libraries\n",
    "import reportcard.lib.StopsDB as StopsDB\n",
    "import reportcard.lib.BusAPI as BusAPI"
   ]
  },
  {
   "cell_type": "code",
   "execution_count": 3,
   "metadata": {},
   "outputs": [],
   "source": [
    "# database initialization\n",
    "db = StopsDB.MySQL('buses', 'buswatcher', 'njtransit', '127.0.0.1', route)\n",
    "conn = db.conn\n",
    "table_name = 'stop_approaches_log_' + route"
   ]
  },
  {
   "cell_type": "code",
   "execution_count": 4,
   "metadata": {},
   "outputs": [],
   "source": [
    "# common functions\n",
    "def timestamp_fix(data): # trim the microseconds off the timestamp and convert it to datetime format\n",
    "    data['timestamp'] = data['timestamp'].str.split('.').str.get(0)\n",
    "    data['timestamp'] = pd.to_datetime(data['timestamp'],errors='coerce')\n",
    "    data = data.set_index(pd.DatetimeIndex(data['timestamp']))\n",
    "    # data = data.set_index(pd.DatetimeIndex(data['timestamp'], drop=False)\n",
    "    return data"
   ]
  },
  {
   "cell_type": "code",
   "execution_count": 5,
   "metadata": {},
   "outputs": [],
   "source": [
    "# get data and basic cleanup\n",
    "def get_arrivals(route,stop,final_approach_query,conn):\n",
    "    df_temp = pd.read_sql_query(final_approach_query, conn) # arrivals table and deltas are all re-generated on the fly for every view now -- easier, but might lead to inconsistent/innaccurate results over time?\n",
    "    df_temp = df_temp.drop(columns=['cars', 'consist', 'fd', 'm', 'name', 'rn', 'scheduled'])\n",
    "    df_temp = timestamp_fix(df_temp)\n",
    "\n",
    "    # split final approach history (sorted by timestamp) at each change in vehicle_id outputs a list of dfs -- per https://stackoverflow.com/questions/41144231/python-how-to-split-pandas-dataframe-into-subsets-based-on-the-value-in-the-fir\n",
    "    final_approach_dfs = [g for i, g in df_temp.groupby(df_temp['v'].ne(df_temp['v'].shift()).cumsum())]\n",
    "\n",
    "    try:\n",
    "        # take the last V(ehicle) approach in each df and add it to final list of arrivals\n",
    "        arrivals_list_final_df = pd.DataFrame()\n",
    "        for final_approach in final_approach_dfs:  # iterate over every final approach\n",
    "            arrival_insert_df = final_approach.tail(1)  # take the last observation\n",
    "            arrivals_list_final_df = arrivals_list_final_df.append(arrival_insert_df)  # insert into df\n",
    "\n",
    "        # calc interval between last bus for each row, fill NaNs\n",
    "        arrivals_list_final_df['delta']=(arrivals_list_final_df['timestamp'] - arrivals_list_final_df['timestamp'].shift(-1)).fillna(0)\n",
    "        # housekeeping ---------------------------------------------------\n",
    "\n",
    "        # set stop_name\n",
    "        stop_name = arrivals_list_final_df['stop_name'].iloc[0]\n",
    "        return arrivals_list_final_df, stop_name\n",
    "\n",
    "    except:\n",
    "        arrivals_list_final_df=\\\n",
    "            pd.DataFrame(\\\n",
    "                columns=['pkey','pt','rd','stop_id','stop_name','v','timestamp','delta'],\\\n",
    "                data=[['0000000', '3', route, stop,'N/A', 'N/A', datetime.time(0,1), datetime.timedelta(seconds=0)]])\n",
    "        stop_name = 'N/A'\n",
    "        arrivals_table_time_created = datetime.datetime.now()"
   ]
  },
  {
   "cell_type": "code",
   "execution_count": 6,
   "metadata": {},
   "outputs": [
    {
     "ename": "RuntimeError",
     "evalue": "Bad request sucker!",
     "output_type": "error",
     "traceback": [
      "\u001b[0;31m---------------------------------------------------------------------------\u001b[0m",
      "\u001b[0;31mRuntimeError\u001b[0m                              Traceback (most recent call last)",
      "\u001b[0;32m<ipython-input-6-09551f5790fc>\u001b[0m in \u001b[0;36m<module>\u001b[0;34m()\u001b[0m\n\u001b[1;32m     13\u001b[0m         \u001b[0mfinal_approach_query\u001b[0m \u001b[0;34m=\u001b[0m \u001b[0;34m(\u001b[0m\u001b[0;34m'SELECT * FROM %s WHERE stop_id= %s ORDER BY timestamp DESC;'\u001b[0m \u001b[0;34m%\u001b[0m \u001b[0;34m(\u001b[0m\u001b[0mtable_name\u001b[0m\u001b[0;34m,\u001b[0m\u001b[0mstop\u001b[0m\u001b[0;34m)\u001b[0m\u001b[0;34m)\u001b[0m\u001b[0;34m\u001b[0m\u001b[0m\n\u001b[1;32m     14\u001b[0m     \u001b[0;32melse\u001b[0m\u001b[0;34m:\u001b[0m\u001b[0;34m\u001b[0m\u001b[0m\n\u001b[0;32m---> 15\u001b[0;31m         \u001b[0;32mraise\u001b[0m \u001b[0mRuntimeError\u001b[0m\u001b[0;34m(\u001b[0m\u001b[0;34m'Bad request sucker!'\u001b[0m\u001b[0;34m)\u001b[0m\u001b[0;34m\u001b[0m\u001b[0m\n\u001b[0m\u001b[1;32m     16\u001b[0m \u001b[0;34m\u001b[0m\u001b[0m\n\u001b[1;32m     17\u001b[0m     \u001b[0marrivals\u001b[0m\u001b[0;34m.\u001b[0m\u001b[0mappend\u001b[0m\u001b[0;34m(\u001b[0m\u001b[0mget_arrivals\u001b[0m\u001b[0;34m(\u001b[0m\u001b[0mroute\u001b[0m\u001b[0;34m,\u001b[0m\u001b[0mstop\u001b[0m\u001b[0;34m,\u001b[0m\u001b[0mfinal_approach_query\u001b[0m\u001b[0;34m,\u001b[0m\u001b[0mconn\u001b[0m\u001b[0;34m)\u001b[0m\u001b[0;34m)\u001b[0m\u001b[0;34m\u001b[0m\u001b[0m\n",
      "\u001b[0;31mRuntimeError\u001b[0m: Bad request sucker!"
     ]
    }
   ],
   "source": [
    "# select query based on period\n",
    "\n",
    "arrivals = []\n",
    "\n",
    "for stop in [timed_course_start,timed_course_end]:\n",
    "    if period == \"daily\":\n",
    "            final_approach_query = ('SELECT * FROM %s WHERE (stop_id= %s AND DATE(`timestamp`)=CURDATE() ) ORDER BY timestamp DESC;' % (table_name, stop))\n",
    "    elif period == \"yesterday\":\n",
    "        final_approach_query = ('SELECT * FROM %s WHERE (stop_id= %s AND (timestamp >= CURDATE() - INTERVAL 1 DAY AND timestamp < CURDATE())) ORDER BY timestamp DESC;' % (table_name, stop))\n",
    "    elif period==\"weekly\":\n",
    "        final_approach_query = ('SELECT * FROM %s WHERE (stop_id= %s AND (YEARWEEK(`timestamp`, 1) = YEARWEEK(CURDATE(), 1))) ORDER BY timestamp DESC;' % (table_name, stop))\n",
    "    elif period==\"history\":\n",
    "        final_approach_query = ('SELECT * FROM %s WHERE stop_id= %s ORDER BY timestamp DESC;' % (table_name,stop))\n",
    "    else:\n",
    "        raise RuntimeError('Bad request sucker!')\n",
    "    \n",
    "    arrivals.append(get_arrivals(route,stop,final_approach_query,conn))\n"
   ]
  },
  {
   "cell_type": "markdown",
   "metadata": {},
   "source": [
    "## below will work better if i group the data by day first"
   ]
  },
  {
   "cell_type": "code",
   "execution_count": null,
   "metadata": {},
   "outputs": [],
   "source": [
    "# match up trips ---- to create journeys\n",
    "\n",
    "hill_runs=[]\n",
    "    \n",
    "# populate list of runs with buses from top of hill (bus#,starttime)\n",
    "for index, row in arrivals[0][0].iterrows():\n",
    "    run_entry = []\n",
    "    run_entry.append(row['v'])\n",
    "    run_entry.append(row['timestamp'])\n",
    "    hill_runs.append(run_entry)\n",
    "\n",
    "hill_runs"
   ]
  },
  {
   "cell_type": "code",
   "execution_count": null,
   "metadata": {},
   "outputs": [],
   "source": [
    "for index, row in arrivals[1][0].iterrows():\n",
    "    for bus in hill_runs:\n",
    "        if (bus[0] == row['v']) and (row['delta'].seconds < 3600): # Error: string indices must be integers\n",
    "            bus.append(row['timestamp']) # (bus#,starttime,endtime)\n",
    "\n",
    "hill_runs"
   ]
  },
  {
   "cell_type": "code",
   "execution_count": null,
   "metadata": {},
   "outputs": [],
   "source": [
    "for row in hill_runs:\n",
    "    duration = row[3] - row[2]\n",
    "    row.append(duration) # (bus#,starttime,endtime,duration)\n",
    "\n",
    "hill_runs"
   ]
  },
  {
   "cell_type": "code",
   "execution_count": null,
   "metadata": {},
   "outputs": [],
   "source": [
    "# turn into a data frame then\n",
    "# resample by hour, mean(travel_time)"
   ]
  },
  {
   "cell_type": "code",
   "execution_count": null,
   "metadata": {},
   "outputs": [],
   "source": []
  }
 ],
 "metadata": {
  "kernelspec": {
   "display_name": "Python 2",
   "language": "python",
   "name": "python2"
  },
  "language_info": {
   "codemirror_mode": {
    "name": "ipython",
    "version": 2
   },
   "file_extension": ".py",
   "mimetype": "text/x-python",
   "name": "python",
   "nbconvert_exporter": "python",
   "pygments_lexer": "ipython2",
   "version": "2.7.15"
  }
 },
 "nbformat": 4,
 "nbformat_minor": 2
}
