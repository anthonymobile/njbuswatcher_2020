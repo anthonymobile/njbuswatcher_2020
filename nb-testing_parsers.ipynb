{
 "cells": [
  {
   "cell_type": "code",
   "execution_count": 1,
   "metadata": {},
   "outputs": [],
   "source": [
    "import Buses"
   ]
  },
  {
   "cell_type": "code",
   "execution_count": 2,
   "metadata": {},
   "outputs": [
    {
     "data": {
      "text/plain": [
       "route[c=#003366 displayDesignator=126 identity=126 name=route nm=126 Hoboken - New York paths=[Path[d=New York dd=New York directionRtpiFeedName=None identity=19218 l=24023.0 name=Path points=[<Buses.Stop instance at 0x7f9a26f4af80>, <Buses.Point instance at 0x7f9a26ed5248>, <Buses.Point instance at 0x7f9a26ed52d8>, <Buses.Point instance at 0x7f9a26ed5320>, <Buses.Stop instance at 0x7f9a26ed53b0>, <Buses.Stop instance at 0x7f9a26ed5440>, <Buses.Stop instance at 0x7f9a26ed54d0>, <Buses.Stop instance at 0x7f9a26ed5560>, <Buses.Stop instance at 0x7f9a26ed55f0>, <Buses.Stop instance at 0x7f9a26ed5680>, <Buses.Point instance at 0x7f9a26ed5710>, <Buses.Stop instance at 0x7f9a26ed57a0>, <Buses.Point instance at 0x7f9a26ed5830>, <Buses.Stop instance at 0x7f9a26ed58c0>, <Buses.Point instance at 0x7f9a26ed5950>, <Buses.Stop instance at 0x7f9a26ed59e0>, <Buses.Stop instance at 0x7f9a26ed5a70>, <Buses.Point instance at 0x7f9a26ed5b00>, <Buses.Point instance at 0x7f9a26ed5b90>, <Buses.Point instance at 0x7f9a26ed5c20>, <Buses.Point instance at 0x7f9a26ed5cb0>, <Buses.Point instance at 0x7f9a3c2c3cf8>, <Buses.Point instance at 0x7f9a26ed5d88>, <Buses.Point instance at 0x7f9a26ed5e18>, <Buses.Point instance at 0x7f9a26ed5ea8>, <Buses.Point instance at 0x7f9a26ed5f38>, <Buses.Point instance at 0x7f9a26ed5fc8>, <Buses.Point instance at 0x7f9a26ed8098>, <Buses.Point instance at 0x7f9a26ed8128>, <Buses.Point instance at 0x7f9a26ed81b8>, <Buses.Point instance at 0x7f9a26ed8248>, <Buses.Point instance at 0x7f9a26ed82d8>, <Buses.Point instance at 0x7f9a26ed8368>, <Buses.Point instance at 0x7f9a26ed83f8>, <Buses.Point instance at 0x7f9a26ed8488>, <Buses.Point instance at 0x7f9a26ed8518>, <Buses.Point instance at 0x7f9a26ed85a8>, <Buses.Point instance at 0x7f9a26ed8638>, <Buses.Point instance at 0x7f9a26ed86c8>, <Buses.Point instance at 0x7f9a26ed8758>, <Buses.Point instance at 0x7f9a26ed87e8>, <Buses.Point instance at 0x7f9a26ed8878>, <Buses.Point instance at 0x7f9a26ed8908>, <Buses.Point instance at 0x7f9a26ed8998>, <Buses.Point instance at 0x7f9a26ed8a28>, <Buses.Point instance at 0x7f9a26ed8ab8>, <Buses.Point instance at 0x7f9a26ed8b48>, <Buses.Point instance at 0x7f9a26ed8bd8>, <Buses.Point instance at 0x7f9a26ed8c68>, <Buses.Point instance at 0x7f9a26ed8cf8>, <Buses.Point instance at 0x7f9a26ed8d88>, <Buses.Point instance at 0x7f9a26ed8e18>, <Buses.Point instance at 0x7f9a26ed8ea8>, <Buses.Point instance at 0x7f9a26ed8f38>, <Buses.Point instance at 0x7f9a26ed8fc8>, <Buses.Stop instance at 0x7f9a26edb098>]], Path[d=Hoboken/Jersey C dd=Hoboken/Jersey C directionRtpiFeedName=None identity=19212 l=24647.0 name=Path points=[<Buses.Stop instance at 0x7f9a26edb170>, <Buses.Point instance at 0x7f9a26edb200>, <Buses.Point instance at 0x7f9a26edb290>, <Buses.Point instance at 0x7f9a26edb320>, <Buses.Point instance at 0x7f9a26edb3b0>, <Buses.Point instance at 0x7f9a26edb440>, <Buses.Point instance at 0x7f9a26edb4d0>, <Buses.Point instance at 0x7f9a26edb560>, <Buses.Point instance at 0x7f9a26edb5f0>, <Buses.Point instance at 0x7f9a26edb680>, <Buses.Point instance at 0x7f9a26edb710>, <Buses.Point instance at 0x7f9a26edb7a0>, <Buses.Point instance at 0x7f9a26edb830>, <Buses.Point instance at 0x7f9a26edb8c0>, <Buses.Point instance at 0x7f9a26edb950>, <Buses.Point instance at 0x7f9a26edb9e0>, <Buses.Point instance at 0x7f9a26edba70>, <Buses.Point instance at 0x7f9a26edbb00>, <Buses.Point instance at 0x7f9a26edbb90>, <Buses.Point instance at 0x7f9a26edbc20>, <Buses.Point instance at 0x7f9a26edbcb0>, <Buses.Point instance at 0x7f9a26edbd40>, <Buses.Point instance at 0x7f9a26edbdd0>, <Buses.Point instance at 0x7f9a26edbea8>, <Buses.Point instance at 0x7f9a26edbef0>, <Buses.Point instance at 0x7f9a26edbf38>, <Buses.Point instance at 0x7f9a26edbf80>, <Buses.Point instance at 0x7f9a26edbfc8>, <Buses.Point instance at 0x7f9a26edbe60>, <Buses.Point instance at 0x7f9a26edf098>, <Buses.Point instance at 0x7f9a26edf0e0>, <Buses.Point instance at 0x7f9a26edf128>, <Buses.Point instance at 0x7f9a26edf170>, <Buses.Point instance at 0x7f9a26edf1b8>, <Buses.Point instance at 0x7f9a26edf200>, <Buses.Point instance at 0x7f9a26edf248>, <Buses.Point instance at 0x7f9a26edf290>, <Buses.Point instance at 0x7f9a26edf2d8>, <Buses.Point instance at 0x7f9a26edf320>, <Buses.Point instance at 0x7f9a26edf368>, <Buses.Point instance at 0x7f9a26edf3b0>, <Buses.Point instance at 0x7f9a26edf3f8>, <Buses.Point instance at 0x7f9a26edf440>, <Buses.Point instance at 0x7f9a26edf488>, <Buses.Point instance at 0x7f9a26edf4d0>, <Buses.Point instance at 0x7f9a26edf518>, <Buses.Point instance at 0x7f9a26edf560>, <Buses.Point instance at 0x7f9a26edf5a8>, <Buses.Point instance at 0x7f9a26edf5f0>, <Buses.Point instance at 0x7f9a26edf638>, <Buses.Point instance at 0x7f9a26edf680>, <Buses.Point instance at 0x7f9a26edf6c8>, <Buses.Point instance at 0x7f9a26edf710>, <Buses.Point instance at 0x7f9a26edf758>, <Buses.Point instance at 0x7f9a26edf7a0>, <Buses.Point instance at 0x7f9a26edf7e8>, <Buses.Point instance at 0x7f9a26edf830>, <Buses.Point instance at 0x7f9a26edf878>, <Buses.Point instance at 0x7f9a26edf8c0>, <Buses.Stop instance at 0x7f9a26edf908>, <Buses.Point instance at 0x7f9a26edf950>, <Buses.Point instance at 0x7f9a26edf998>, <Buses.Point instance at 0x7f9a26edf9e0>, <Buses.Point instance at 0x7f9a26edfa28>, <Buses.Stop instance at 0x7f9a26edfa70>, <Buses.Point instance at 0x7f9a26edfab8>, <Buses.Point instance at 0x7f9a26edfb00>, <Buses.Stop instance at 0x7f9a26edfb48>, <Buses.Point instance at 0x7f9a26edfb90>, <Buses.Point instance at 0x7f9a26edfbd8>, <Buses.Stop instance at 0x7f9a26edfc20>, <Buses.Point instance at 0x7f9a26edfc68>, <Buses.Point instance at 0x7f9a26edfcb0>, <Buses.Stop instance at 0x7f9a26edfcf8>, <Buses.Point instance at 0x7f9a26edfd40>, <Buses.Point instance at 0x7f9a26edfd88>, <Buses.Stop instance at 0x7f9a26edfdd0>, <Buses.Stop instance at 0x7f9a26edfe18>, <Buses.Stop instance at 0x7f9a26edfe60>, <Buses.Stop instance at 0x7f9a26edfea8>, <Buses.Stop instance at 0x7f9a26edfef0>, <Buses.Point instance at 0x7f9a26edff38>, <Buses.Stop instance at 0x7f9a26edff80>, <Buses.Point instance at 0x7f9a26edffc8>, <Buses.Point instance at 0x7f9a26edf050>, <Buses.Point instance at 0x7f9a26ee4098>, <Buses.Point instance at 0x7f9a26ee40e0>, <Buses.Point instance at 0x7f9a26ee4128>, <Buses.Point instance at 0x7f9a26ee4170>, <Buses.Point instance at 0x7f9a26ee41b8>, <Buses.Stop instance at 0x7f9a26ee4200>]], Path[d=New York dd=New York directionRtpiFeedName=None identity=90544 l=21847.0 name=Path points=[<Buses.Stop instance at 0x7f9a26ee4248>, <Buses.Stop instance at 0x7f9a26ee4320>, <Buses.Point instance at 0x7f9a26ee4368>, <Buses.Stop instance at 0x7f9a26ee43b0>, <Buses.Point instance at 0x7f9a26ee43f8>, <Buses.Stop instance at 0x7f9a26ee4440>, <Buses.Point instance at 0x7f9a26ee4488>, <Buses.Stop instance at 0x7f9a26ee44d0>, <Buses.Point instance at 0x7f9a26ee4518>, <Buses.Point instance at 0x7f9a26ee4560>, <Buses.Stop instance at 0x7f9a26ee45a8>, <Buses.Stop instance at 0x7f9a26ee45f0>, <Buses.Point instance at 0x7f9a26ee4638>, <Buses.Point instance at 0x7f9a26ee4680>, <Buses.Point instance at 0x7f9a26ee46c8>, <Buses.Point instance at 0x7f9a26ee4710>, <Buses.Point instance at 0x7f9a26ee4758>, <Buses.Point instance at 0x7f9a26ee47a0>, <Buses.Point instance at 0x7f9a26ee47e8>, <Buses.Point instance at 0x7f9a26ee4830>, <Buses.Point instance at 0x7f9a26ee4878>, <Buses.Point instance at 0x7f9a26ee48c0>, <Buses.Point instance at 0x7f9a26ee4908>, <Buses.Point instance at 0x7f9a26ee4950>, <Buses.Point instance at 0x7f9a26ee4998>, <Buses.Point instance at 0x7f9a26ee49e0>, <Buses.Point instance at 0x7f9a26ee4a28>, <Buses.Point instance at 0x7f9a26ee4a70>, <Buses.Point instance at 0x7f9a26ee4ab8>, <Buses.Point instance at 0x7f9a26ee4b00>, <Buses.Point instance at 0x7f9a26ee4b48>, <Buses.Point instance at 0x7f9a26ee4b90>, <Buses.Point instance at 0x7f9a26ee4bd8>, <Buses.Point instance at 0x7f9a26ee4c20>, <Buses.Point instance at 0x7f9a26ee4c68>, <Buses.Point instance at 0x7f9a26ee4cb0>, <Buses.Point instance at 0x7f9a26ee4cf8>, <Buses.Point instance at 0x7f9a26ee4d40>, <Buses.Point instance at 0x7f9a26ee4d88>, <Buses.Point instance at 0x7f9a26ee4dd0>, <Buses.Point instance at 0x7f9a26ee4e18>, <Buses.Point instance at 0x7f9a26ee4e60>, <Buses.Point instance at 0x7f9a26ee4ea8>, <Buses.Point instance at 0x7f9a26ee4ef0>, <Buses.Point instance at 0x7f9a26ee4f38>, <Buses.Point instance at 0x7f9a26ee4f80>, <Buses.Point instance at 0x7f9a26ee4fc8>, <Buses.Point instance at 0x7f9a26ee42d8>, <Buses.Point instance at 0x7f9a26ee9098>, <Buses.Point instance at 0x7f9a26ee90e0>, <Buses.Stop instance at 0x7f9a26ee9128>]], Path[d=New York dd=New York directionRtpiFeedName=None identity=90543 l=25284.0 name=Path points=[<Buses.Stop instance at 0x7f9a26ee9170>, <Buses.Point instance at 0x7f9a26ee9248>, <Buses.Point instance at 0x7f9a26ee9290>, <Buses.Point instance at 0x7f9a26ee92d8>, <Buses.Point instance at 0x7f9a26ee9320>, <Buses.Point instance at 0x7f9a26ee9368>, <Buses.Point instance at 0x7f9a26ee93b0>, <Buses.Stop instance at 0x7f9a26ee93f8>, <Buses.Stop instance at 0x7f9a26ee9440>, <Buses.Point instance at 0x7f9a26ee9488>, <Buses.Stop instance at 0x7f9a26ee94d0>, <Buses.Point instance at 0x7f9a26ee9518>, <Buses.Stop instance at 0x7f9a26ee9560>, <Buses.Point instance at 0x7f9a26ee95a8>, <Buses.Stop instance at 0x7f9a26ee95f0>, <Buses.Point instance at 0x7f9a26ee9638>, <Buses.Point instance at 0x7f9a26ee9680>, <Buses.Stop instance at 0x7f9a26ee96c8>, <Buses.Stop instance at 0x7f9a26ee9710>, <Buses.Point instance at 0x7f9a26ee9758>, <Buses.Point instance at 0x7f9a26ee97a0>, <Buses.Point instance at 0x7f9a26ee97e8>, <Buses.Point instance at 0x7f9a26ee9830>, <Buses.Point instance at 0x7f9a26ee9878>, <Buses.Point instance at 0x7f9a26ee98c0>, <Buses.Point instance at 0x7f9a26ee9908>, <Buses.Point instance at 0x7f9a26ee9950>, <Buses.Point instance at 0x7f9a26ee9998>, <Buses.Point instance at 0x7f9a26ee99e0>, <Buses.Point instance at 0x7f9a26ee9a28>, <Buses.Point instance at 0x7f9a26ee9a70>, <Buses.Point instance at 0x7f9a26ee9ab8>, <Buses.Point instance at 0x7f9a26ee9b00>, <Buses.Point instance at 0x7f9a26ee9b48>, <Buses.Point instance at 0x7f9a26ee9b90>, <Buses.Point instance at 0x7f9a26ee9bd8>, <Buses.Point instance at 0x7f9a26ee9c20>, <Buses.Point instance at 0x7f9a26ee9c68>, <Buses.Point instance at 0x7f9a26ee9cb0>, <Buses.Point instance at 0x7f9a26ee9cf8>, <Buses.Point instance at 0x7f9a26ee9d40>, <Buses.Point instance at 0x7f9a26ee9d88>, <Buses.Point instance at 0x7f9a26ee9dd0>, <Buses.Point instance at 0x7f9a26ee9e18>, <Buses.Point instance at 0x7f9a26ee9e60>, <Buses.Point instance at 0x7f9a26ee9ea8>, <Buses.Point instance at 0x7f9a26ee9ef0>, <Buses.Point instance at 0x7f9a26ee9f38>, <Buses.Point instance at 0x7f9a26ee9f80>, <Buses.Point instance at 0x7f9a26ee9fc8>, <Buses.Point instance at 0x7f9a26ee9200>, <Buses.Point instance at 0x7f9a26eee098>, <Buses.Point instance at 0x7f9a26eee0e0>, <Buses.Point instance at 0x7f9a26eee128>, <Buses.Point instance at 0x7f9a26eee170>, <Buses.Point instance at 0x7f9a26eee1b8>, <Buses.Point instance at 0x7f9a26eee200>, <Buses.Stop instance at 0x7f9a26eee248>]]] rtpiFeedName=None sbs=\n",
       "\n",
       "\n",
       "\n",
       "\t\t sn=126 vmode=1]"
      ]
     },
     "execution_count": 2,
     "metadata": {},
     "output_type": "execute_result"
    }
   ],
   "source": [
    "# routes\n",
    "Buses.parse_route_xml(Buses.get_xml_data('nj', 'routes', route=126))"
   ]
  },
  {
   "cell_type": "code",
   "execution_count": 5,
   "metadata": {},
   "outputs": [
    {
     "name": "stdout",
     "output_type": "stream",
     "text": [
      "[StopPrediction[cars= consist= fd=119 NEW YORK m=1 name=StopPrediction pt=APPROACHING rd=119 rn=119 scheduled=false stop_id=30189 stop_name=CONGRESS ST + WEBSTER AVE v=6016]]\n",
      "[StopPrediction[cars= consist= fd=119 NEW YORK m=1 name=StopPrediction pt=APPROACHING rd=119 rn=119 scheduled=false stop_id=30189 stop_name=CONGRESS ST + WEBSTER AVE v=6016], StopPrediction[cars= consist= fd=119 NEW YORK m=1 name=StopPrediction pt=24 rd=119 rn=119 scheduled=false stop_id=30189 stop_name=CONGRESS ST + WEBSTER AVE v=6045]]\n"
     ]
    },
    {
     "data": {
      "text/plain": [
       "[StopPrediction[cars= consist= fd=119 NEW YORK m=1 name=StopPrediction pt=APPROACHING rd=119 rn=119 scheduled=false stop_id=30189 stop_name=CONGRESS ST + WEBSTER AVE v=6016],\n",
       " StopPrediction[cars= consist= fd=119 NEW YORK m=1 name=StopPrediction pt=24 rd=119 rn=119 scheduled=false stop_id=30189 stop_name=CONGRESS ST + WEBSTER AVE v=6045]]"
      ]
     },
     "execution_count": 5,
     "metadata": {},
     "output_type": "execute_result"
    }
   ],
   "source": [
    "# stops\n",
    "Buses.parse_stopprediction_xml(Buses.get_xml_data('nj', 'stop_predictions',stop=30189, route=119))"
   ]
  },
  {
   "cell_type": "code",
   "execution_count": null,
   "metadata": {},
   "outputs": [],
   "source": []
  }
 ],
 "metadata": {
  "anaconda-cloud": {},
  "kernelspec": {
   "display_name": "Python 2",
   "language": "python",
   "name": "python2"
  },
  "language_info": {
   "codemirror_mode": {
    "name": "ipython",
    "version": 2
   },
   "file_extension": ".py",
   "mimetype": "text/x-python",
   "name": "python",
   "nbconvert_exporter": "python",
   "pygments_lexer": "ipython2",
   "version": "2.7.14"
  }
 },
 "nbformat": 4,
 "nbformat_minor": 2
}
